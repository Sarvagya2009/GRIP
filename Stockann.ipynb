{
  "nbformat": 4,
  "nbformat_minor": 0,
  "metadata": {
    "colab": {
      "name": "Stockann.ipynb",
      "provenance": [],
      "collapsed_sections": [],
      "mount_file_id": "1sUCwGrzLEg6x5xjnK5f7LqjNkxJG_G0d",
      "authorship_tag": "ABX9TyNc5Yaq3Sk2kmnWAo4f7Uor",
      "include_colab_link": true
    },
    "kernelspec": {
      "display_name": "Python 3",
      "name": "python3"
    }
  },
  "cells": [
    {
      "cell_type": "markdown",
      "metadata": {
        "id": "view-in-github",
        "colab_type": "text"
      },
      "source": [
        "<a href=\"https://colab.research.google.com/github/Sarvagya2009/GRIP/blob/main/Stockann.ipynb\" target=\"_parent\"><img src=\"https://colab.research.google.com/assets/colab-badge.svg\" alt=\"Open In Colab\"/></a>"
      ]
    },
    {
      "cell_type": "markdown",
      "metadata": {
        "id": "bN_4p9F740dd"
      },
      "source": [
        "# **Graduate Rotational Internship Program**\r\n",
        "\r\n",
        "# The Sparks Foundation"
      ]
    },
    {
      "cell_type": "markdown",
      "metadata": {
        "id": "y9tl1aartVjI"
      },
      "source": [
        "Author: Sarvagya Kumar\r\n",
        "                                                                                                         "
      ]
    },
    {
      "cell_type": "markdown",
      "metadata": {
        "id": "za_V23CTsqte"
      },
      "source": [
        "# **TASK 7: Stock Market Prediction using Numerical and Textual Analysis**\r\n",
        "# #GRIPJAN21"
      ]
    },
    {
      "cell_type": "markdown",
      "metadata": {
        "id": "bOBf98u2t-dw"
      },
      "source": [
        "**IMPORTING NECESSARY PACKAGES**"
      ]
    },
    {
      "cell_type": "code",
      "metadata": {
        "colab": {
          "base_uri": "https://localhost:8080/"
        },
        "id": "C-aRh2ermWXE",
        "outputId": "f93d2c00-c885-4a57-d808-55551563195f"
      },
      "source": [
        "import os\r\n",
        "import warnings\r\n",
        "warnings.filterwarnings('ignore')\r\n",
        "import pandas as pd\r\n",
        "import numpy as np\r\n",
        "import matplotlib.pyplot as plt\r\n",
        "import seaborn as sns\r\n",
        "sns.set()\r\n",
        "\r\n",
        "import nltk\r\n",
        "import re\r\n",
        "from nltk.tokenize import word_tokenize, RegexpTokenizer\r\n",
        "from nltk.corpus import stopwords\r\n",
        "from textblob import TextBlob\r\n",
        "nltk.download('stopwords')\r\n",
        "nltk.download('vader_lexicon')\r\n",
        "\r\n",
        "from nltk.sentiment.vader import SentimentIntensityAnalyzer\r\n",
        "from sklearn.metrics import mean_squared_error"
      ],
      "execution_count": 56,
      "outputs": [
        {
          "output_type": "stream",
          "text": [
            "[nltk_data] Downloading package stopwords to /root/nltk_data...\n",
            "[nltk_data]   Package stopwords is already up-to-date!\n",
            "[nltk_data] Downloading package vader_lexicon to /root/nltk_data...\n",
            "[nltk_data]   Package vader_lexicon is already up-to-date!\n"
          ],
          "name": "stdout"
        }
      ]
    },
    {
      "cell_type": "markdown",
      "metadata": {
        "id": "_KqcDliquGHq"
      },
      "source": [
        "**READING NEWS HEADLINES CSV FILE AND LOADING IT TO NEWS DATAFRAME**"
      ]
    },
    {
      "cell_type": "code",
      "metadata": {
        "colab": {
          "base_uri": "https://localhost:8080/",
          "height": 359
        },
        "id": "HRdNAhFrnQgT",
        "outputId": "cf25dc97-aafb-43ef-edb4-8c50151653c3"
      },
      "source": [
        "cols = ['Date','Category','HeadLine']\r\n",
        "news=pd.read_csv('india-news-headlines.csv', names=cols)\r\n",
        "news.head(10)"
      ],
      "execution_count": 57,
      "outputs": [
        {
          "output_type": "execute_result",
          "data": {
            "text/html": [
              "<div>\n",
              "<style scoped>\n",
              "    .dataframe tbody tr th:only-of-type {\n",
              "        vertical-align: middle;\n",
              "    }\n",
              "\n",
              "    .dataframe tbody tr th {\n",
              "        vertical-align: top;\n",
              "    }\n",
              "\n",
              "    .dataframe thead th {\n",
              "        text-align: right;\n",
              "    }\n",
              "</style>\n",
              "<table border=\"1\" class=\"dataframe\">\n",
              "  <thead>\n",
              "    <tr style=\"text-align: right;\">\n",
              "      <th></th>\n",
              "      <th>Date</th>\n",
              "      <th>Category</th>\n",
              "      <th>HeadLine</th>\n",
              "    </tr>\n",
              "  </thead>\n",
              "  <tbody>\n",
              "    <tr>\n",
              "      <th>0</th>\n",
              "      <td>publish_date</td>\n",
              "      <td>headline_category</td>\n",
              "      <td>headline_text</td>\n",
              "    </tr>\n",
              "    <tr>\n",
              "      <th>1</th>\n",
              "      <td>20010101</td>\n",
              "      <td>sports.wwe</td>\n",
              "      <td>win over cena satisfying but defeating underta...</td>\n",
              "    </tr>\n",
              "    <tr>\n",
              "      <th>2</th>\n",
              "      <td>20010102</td>\n",
              "      <td>unknown</td>\n",
              "      <td>Status quo will not be disturbed at Ayodhya; s...</td>\n",
              "    </tr>\n",
              "    <tr>\n",
              "      <th>3</th>\n",
              "      <td>20010102</td>\n",
              "      <td>unknown</td>\n",
              "      <td>Fissures in Hurriyat over Pak visit</td>\n",
              "    </tr>\n",
              "    <tr>\n",
              "      <th>4</th>\n",
              "      <td>20010102</td>\n",
              "      <td>unknown</td>\n",
              "      <td>America's unwanted heading for India?</td>\n",
              "    </tr>\n",
              "    <tr>\n",
              "      <th>5</th>\n",
              "      <td>20010102</td>\n",
              "      <td>unknown</td>\n",
              "      <td>For bigwigs; it is destination Goa</td>\n",
              "    </tr>\n",
              "    <tr>\n",
              "      <th>6</th>\n",
              "      <td>20010102</td>\n",
              "      <td>unknown</td>\n",
              "      <td>Extra buses to clear tourist traffic</td>\n",
              "    </tr>\n",
              "    <tr>\n",
              "      <th>7</th>\n",
              "      <td>20010102</td>\n",
              "      <td>unknown</td>\n",
              "      <td>Dilute the power of transfers; says Riberio</td>\n",
              "    </tr>\n",
              "    <tr>\n",
              "      <th>8</th>\n",
              "      <td>20010102</td>\n",
              "      <td>unknown</td>\n",
              "      <td>Focus shifts to teaching of Hindi</td>\n",
              "    </tr>\n",
              "    <tr>\n",
              "      <th>9</th>\n",
              "      <td>20010102</td>\n",
              "      <td>unknown</td>\n",
              "      <td>IT will become compulsory in schools</td>\n",
              "    </tr>\n",
              "  </tbody>\n",
              "</table>\n",
              "</div>"
            ],
            "text/plain": [
              "           Date  ...                                           HeadLine\n",
              "0  publish_date  ...                                      headline_text\n",
              "1      20010101  ...  win over cena satisfying but defeating underta...\n",
              "2      20010102  ...  Status quo will not be disturbed at Ayodhya; s...\n",
              "3      20010102  ...                Fissures in Hurriyat over Pak visit\n",
              "4      20010102  ...              America's unwanted heading for India?\n",
              "5      20010102  ...                 For bigwigs; it is destination Goa\n",
              "6      20010102  ...               Extra buses to clear tourist traffic\n",
              "7      20010102  ...        Dilute the power of transfers; says Riberio\n",
              "8      20010102  ...                  Focus shifts to teaching of Hindi\n",
              "9      20010102  ...               IT will become compulsory in schools\n",
              "\n",
              "[10 rows x 3 columns]"
            ]
          },
          "metadata": {
            "tags": []
          },
          "execution_count": 57
        }
      ]
    },
    {
      "cell_type": "markdown",
      "metadata": {
        "id": "GETSPRjiuYsU"
      },
      "source": [
        "**PREPROCESSING OF NEWS DATAFRAME**"
      ]
    },
    {
      "cell_type": "code",
      "metadata": {
        "colab": {
          "base_uri": "https://localhost:8080/"
        },
        "id": "VNf6uLJTKhUh",
        "outputId": "d5bdbf9b-2b3f-40af-b2eb-15402b5a78e7"
      },
      "source": [
        "news.drop(0, inplace=True)\r\n",
        "news.drop('Category', axis = 1, inplace=True)\r\n",
        "news.info()"
      ],
      "execution_count": 58,
      "outputs": [
        {
          "output_type": "stream",
          "text": [
            "<class 'pandas.core.frame.DataFrame'>\n",
            "Int64Index: 3297172 entries, 1 to 3297172\n",
            "Data columns (total 2 columns):\n",
            " #   Column    Dtype \n",
            "---  ------    ----- \n",
            " 0   Date      object\n",
            " 1   HeadLine  object\n",
            "dtypes: object(2)\n",
            "memory usage: 75.5+ MB\n"
          ],
          "name": "stdout"
        }
      ]
    },
    {
      "cell_type": "code",
      "metadata": {
        "colab": {
          "base_uri": "https://localhost:8080/",
          "height": 204
        },
        "id": "yybSDkRtRrRB",
        "outputId": "0f98eeac-6589-437c-bbe6-76ce0793f402"
      },
      "source": [
        "news.head()"
      ],
      "execution_count": 59,
      "outputs": [
        {
          "output_type": "execute_result",
          "data": {
            "text/html": [
              "<div>\n",
              "<style scoped>\n",
              "    .dataframe tbody tr th:only-of-type {\n",
              "        vertical-align: middle;\n",
              "    }\n",
              "\n",
              "    .dataframe tbody tr th {\n",
              "        vertical-align: top;\n",
              "    }\n",
              "\n",
              "    .dataframe thead th {\n",
              "        text-align: right;\n",
              "    }\n",
              "</style>\n",
              "<table border=\"1\" class=\"dataframe\">\n",
              "  <thead>\n",
              "    <tr style=\"text-align: right;\">\n",
              "      <th></th>\n",
              "      <th>Date</th>\n",
              "      <th>HeadLine</th>\n",
              "    </tr>\n",
              "  </thead>\n",
              "  <tbody>\n",
              "    <tr>\n",
              "      <th>1</th>\n",
              "      <td>20010101</td>\n",
              "      <td>win over cena satisfying but defeating underta...</td>\n",
              "    </tr>\n",
              "    <tr>\n",
              "      <th>2</th>\n",
              "      <td>20010102</td>\n",
              "      <td>Status quo will not be disturbed at Ayodhya; s...</td>\n",
              "    </tr>\n",
              "    <tr>\n",
              "      <th>3</th>\n",
              "      <td>20010102</td>\n",
              "      <td>Fissures in Hurriyat over Pak visit</td>\n",
              "    </tr>\n",
              "    <tr>\n",
              "      <th>4</th>\n",
              "      <td>20010102</td>\n",
              "      <td>America's unwanted heading for India?</td>\n",
              "    </tr>\n",
              "    <tr>\n",
              "      <th>5</th>\n",
              "      <td>20010102</td>\n",
              "      <td>For bigwigs; it is destination Goa</td>\n",
              "    </tr>\n",
              "  </tbody>\n",
              "</table>\n",
              "</div>"
            ],
            "text/plain": [
              "       Date                                           HeadLine\n",
              "1  20010101  win over cena satisfying but defeating underta...\n",
              "2  20010102  Status quo will not be disturbed at Ayodhya; s...\n",
              "3  20010102                Fissures in Hurriyat over Pak visit\n",
              "4  20010102              America's unwanted heading for India?\n",
              "5  20010102                 For bigwigs; it is destination Goa"
            ]
          },
          "metadata": {
            "tags": []
          },
          "execution_count": 59
        }
      ]
    },
    {
      "cell_type": "markdown",
      "metadata": {
        "id": "Zqp0J40cuk4K"
      },
      "source": [
        "Converting date to appropriate format"
      ]
    },
    {
      "cell_type": "code",
      "metadata": {
        "colab": {
          "base_uri": "https://localhost:8080/",
          "height": 204
        },
        "id": "-laDHwUQVACW",
        "outputId": "d30801fa-c76c-4e9a-88aa-256d309de2d6"
      },
      "source": [
        "news['Date']= pd.to_datetime(news['Date'], format= '%Y%m%d')\r\n",
        "\r\n",
        "news.head()"
      ],
      "execution_count": 60,
      "outputs": [
        {
          "output_type": "execute_result",
          "data": {
            "text/html": [
              "<div>\n",
              "<style scoped>\n",
              "    .dataframe tbody tr th:only-of-type {\n",
              "        vertical-align: middle;\n",
              "    }\n",
              "\n",
              "    .dataframe tbody tr th {\n",
              "        vertical-align: top;\n",
              "    }\n",
              "\n",
              "    .dataframe thead th {\n",
              "        text-align: right;\n",
              "    }\n",
              "</style>\n",
              "<table border=\"1\" class=\"dataframe\">\n",
              "  <thead>\n",
              "    <tr style=\"text-align: right;\">\n",
              "      <th></th>\n",
              "      <th>Date</th>\n",
              "      <th>HeadLine</th>\n",
              "    </tr>\n",
              "  </thead>\n",
              "  <tbody>\n",
              "    <tr>\n",
              "      <th>1</th>\n",
              "      <td>2001-01-01</td>\n",
              "      <td>win over cena satisfying but defeating underta...</td>\n",
              "    </tr>\n",
              "    <tr>\n",
              "      <th>2</th>\n",
              "      <td>2001-01-02</td>\n",
              "      <td>Status quo will not be disturbed at Ayodhya; s...</td>\n",
              "    </tr>\n",
              "    <tr>\n",
              "      <th>3</th>\n",
              "      <td>2001-01-02</td>\n",
              "      <td>Fissures in Hurriyat over Pak visit</td>\n",
              "    </tr>\n",
              "    <tr>\n",
              "      <th>4</th>\n",
              "      <td>2001-01-02</td>\n",
              "      <td>America's unwanted heading for India?</td>\n",
              "    </tr>\n",
              "    <tr>\n",
              "      <th>5</th>\n",
              "      <td>2001-01-02</td>\n",
              "      <td>For bigwigs; it is destination Goa</td>\n",
              "    </tr>\n",
              "  </tbody>\n",
              "</table>\n",
              "</div>"
            ],
            "text/plain": [
              "        Date                                           HeadLine\n",
              "1 2001-01-01  win over cena satisfying but defeating underta...\n",
              "2 2001-01-02  Status quo will not be disturbed at Ayodhya; s...\n",
              "3 2001-01-02                Fissures in Hurriyat over Pak visit\n",
              "4 2001-01-02              America's unwanted heading for India?\n",
              "5 2001-01-02                 For bigwigs; it is destination Goa"
            ]
          },
          "metadata": {
            "tags": []
          },
          "execution_count": 60
        }
      ]
    },
    {
      "cell_type": "markdown",
      "metadata": {
        "id": "QzXUpMlauu7h"
      },
      "source": [
        "Putting all headlines of a single date in a single column"
      ]
    },
    {
      "cell_type": "code",
      "metadata": {
        "colab": {
          "base_uri": "https://localhost:8080/",
          "height": 419
        },
        "id": "j68fbwwRa_zc",
        "outputId": "b8770225-be9f-43c2-9784-f7473b123454"
      },
      "source": [
        "news = news.groupby(['Date'])['HeadLine'].apply(lambda x: ','.join(x)).reset_index()\r\n",
        "news = news.drop_duplicates() \r\n",
        "news.reset_index(inplace = True, drop = True)\r\n",
        "news"
      ],
      "execution_count": 61,
      "outputs": [
        {
          "output_type": "execute_result",
          "data": {
            "text/html": [
              "<div>\n",
              "<style scoped>\n",
              "    .dataframe tbody tr th:only-of-type {\n",
              "        vertical-align: middle;\n",
              "    }\n",
              "\n",
              "    .dataframe tbody tr th {\n",
              "        vertical-align: top;\n",
              "    }\n",
              "\n",
              "    .dataframe thead th {\n",
              "        text-align: right;\n",
              "    }\n",
              "</style>\n",
              "<table border=\"1\" class=\"dataframe\">\n",
              "  <thead>\n",
              "    <tr style=\"text-align: right;\">\n",
              "      <th></th>\n",
              "      <th>Date</th>\n",
              "      <th>HeadLine</th>\n",
              "    </tr>\n",
              "  </thead>\n",
              "  <tbody>\n",
              "    <tr>\n",
              "      <th>0</th>\n",
              "      <td>2001-01-01</td>\n",
              "      <td>win over cena satisfying but defeating underta...</td>\n",
              "    </tr>\n",
              "    <tr>\n",
              "      <th>1</th>\n",
              "      <td>2001-01-02</td>\n",
              "      <td>Status quo will not be disturbed at Ayodhya; s...</td>\n",
              "    </tr>\n",
              "    <tr>\n",
              "      <th>2</th>\n",
              "      <td>2001-01-03</td>\n",
              "      <td>Powerless north India gropes in the dark,Think...</td>\n",
              "    </tr>\n",
              "    <tr>\n",
              "      <th>3</th>\n",
              "      <td>2001-01-04</td>\n",
              "      <td>The string that pulled Stephen Hawking to Indi...</td>\n",
              "    </tr>\n",
              "    <tr>\n",
              "      <th>4</th>\n",
              "      <td>2001-01-05</td>\n",
              "      <td>Light combat craft takes India into club class...</td>\n",
              "    </tr>\n",
              "    <tr>\n",
              "      <th>...</th>\n",
              "      <td>...</td>\n",
              "      <td>...</td>\n",
              "    </tr>\n",
              "    <tr>\n",
              "      <th>7075</th>\n",
              "      <td>2020-06-26</td>\n",
              "      <td>Containment zone residents slam high prices ch...</td>\n",
              "    </tr>\n",
              "    <tr>\n",
              "      <th>7076</th>\n",
              "      <td>2020-06-27</td>\n",
              "      <td>like me i wont let you have a toxic relationsh...</td>\n",
              "    </tr>\n",
              "    <tr>\n",
              "      <th>7077</th>\n",
              "      <td>2020-06-28</td>\n",
              "      <td>Atanu Ghosh plans to rewrite old scripts to ma...</td>\n",
              "    </tr>\n",
              "    <tr>\n",
              "      <th>7078</th>\n",
              "      <td>2020-06-29</td>\n",
              "      <td>6 hot and stylish bikini looks of Katrina Kaif...</td>\n",
              "    </tr>\n",
              "    <tr>\n",
              "      <th>7079</th>\n",
              "      <td>2020-06-30</td>\n",
              "      <td>Detective Byomkesh Bakshy!,Edge of Tomorrow,Fi...</td>\n",
              "    </tr>\n",
              "  </tbody>\n",
              "</table>\n",
              "<p>7080 rows × 2 columns</p>\n",
              "</div>"
            ],
            "text/plain": [
              "           Date                                           HeadLine\n",
              "0    2001-01-01  win over cena satisfying but defeating underta...\n",
              "1    2001-01-02  Status quo will not be disturbed at Ayodhya; s...\n",
              "2    2001-01-03  Powerless north India gropes in the dark,Think...\n",
              "3    2001-01-04  The string that pulled Stephen Hawking to Indi...\n",
              "4    2001-01-05  Light combat craft takes India into club class...\n",
              "...         ...                                                ...\n",
              "7075 2020-06-26  Containment zone residents slam high prices ch...\n",
              "7076 2020-06-27  like me i wont let you have a toxic relationsh...\n",
              "7077 2020-06-28  Atanu Ghosh plans to rewrite old scripts to ma...\n",
              "7078 2020-06-29  6 hot and stylish bikini looks of Katrina Kaif...\n",
              "7079 2020-06-30  Detective Byomkesh Bakshy!,Edge of Tomorrow,Fi...\n",
              "\n",
              "[7080 rows x 2 columns]"
            ]
          },
          "metadata": {
            "tags": []
          },
          "execution_count": 61
        }
      ]
    },
    {
      "cell_type": "code",
      "metadata": {
        "colab": {
          "base_uri": "https://localhost:8080/"
        },
        "id": "GSPlBKYwsdBN",
        "outputId": "30829c14-5e23-45e3-82e1-77aea5a92df8"
      },
      "source": [
        "news.info()"
      ],
      "execution_count": 62,
      "outputs": [
        {
          "output_type": "stream",
          "text": [
            "<class 'pandas.core.frame.DataFrame'>\n",
            "RangeIndex: 7080 entries, 0 to 7079\n",
            "Data columns (total 2 columns):\n",
            " #   Column    Non-Null Count  Dtype         \n",
            "---  ------    --------------  -----         \n",
            " 0   Date      7080 non-null   datetime64[ns]\n",
            " 1   HeadLine  7080 non-null   object        \n",
            "dtypes: datetime64[ns](1), object(1)\n",
            "memory usage: 110.8+ KB\n"
          ],
          "name": "stdout"
        }
      ]
    },
    {
      "cell_type": "markdown",
      "metadata": {
        "id": "nXS4oluvF3L4"
      },
      "source": [
        "Tokenizing headlines=>Keeping non stopword words=> making them lower case"
      ]
    },
    {
      "cell_type": "code",
      "metadata": {
        "id": "N7ryzrwOhVGW"
      },
      "source": [
        "tokenizer = RegexpTokenizer(r'\\w+')\r\n",
        "stop_words = stopwords.words('english')"
      ],
      "execution_count": 63,
      "outputs": []
    },
    {
      "cell_type": "code",
      "metadata": {
        "id": "fkAh_XALdU-N"
      },
      "source": [
        "\r\n",
        "def process_text(lines):\r\n",
        "    tokens = []\r\n",
        "    #print(lines)\r\n",
        "    toks = tokenizer.tokenize(lines)\r\n",
        "    toks = [t.lower() for t in toks if t.lower() not in stop_words]\r\n",
        "    return toks\r\n",
        "\r\n",
        "        "
      ],
      "execution_count": 64,
      "outputs": []
    },
    {
      "cell_type": "code",
      "metadata": {
        "id": "8KJgkqwSvhQE"
      },
      "source": [
        "\r\n",
        "c=[]\r\n",
        "for i in range(len(news['HeadLine'])):\r\n",
        "  x=process_text(news['HeadLine'][i])\r\n",
        "  x=' '.join(x)\r\n",
        "  c.append(x)"
      ],
      "execution_count": 65,
      "outputs": []
    },
    {
      "cell_type": "code",
      "metadata": {
        "colab": {
          "base_uri": "https://localhost:8080/",
          "height": 204
        },
        "id": "TH9UNt5bXe2j",
        "outputId": "a3eda08a-a59a-4edb-d1f2-a3d5dc4300cb"
      },
      "source": [
        "news['HeadLine']=pd.Series(c)\r\n",
        "type(news['HeadLine'][0])\r\n",
        "news.head()"
      ],
      "execution_count": 66,
      "outputs": [
        {
          "output_type": "execute_result",
          "data": {
            "text/html": [
              "<div>\n",
              "<style scoped>\n",
              "    .dataframe tbody tr th:only-of-type {\n",
              "        vertical-align: middle;\n",
              "    }\n",
              "\n",
              "    .dataframe tbody tr th {\n",
              "        vertical-align: top;\n",
              "    }\n",
              "\n",
              "    .dataframe thead th {\n",
              "        text-align: right;\n",
              "    }\n",
              "</style>\n",
              "<table border=\"1\" class=\"dataframe\">\n",
              "  <thead>\n",
              "    <tr style=\"text-align: right;\">\n",
              "      <th></th>\n",
              "      <th>Date</th>\n",
              "      <th>HeadLine</th>\n",
              "    </tr>\n",
              "  </thead>\n",
              "  <tbody>\n",
              "    <tr>\n",
              "      <th>0</th>\n",
              "      <td>2001-01-01</td>\n",
              "      <td>win cena satisfying defeating undertaker bigge...</td>\n",
              "    </tr>\n",
              "    <tr>\n",
              "      <th>1</th>\n",
              "      <td>2001-01-02</td>\n",
              "      <td>status quo disturbed ayodhya says vajpayee fis...</td>\n",
              "    </tr>\n",
              "    <tr>\n",
              "      <th>2</th>\n",
              "      <td>2001-01-03</td>\n",
              "      <td>powerless north india gropes dark think laxman...</td>\n",
              "    </tr>\n",
              "    <tr>\n",
              "      <th>3</th>\n",
              "      <td>2001-01-04</td>\n",
              "      <td>string pulled stephen hawking india vajpayee g...</td>\n",
              "    </tr>\n",
              "    <tr>\n",
              "      <th>4</th>\n",
              "      <td>2001-01-05</td>\n",
              "      <td>light combat craft takes india club class hawk...</td>\n",
              "    </tr>\n",
              "  </tbody>\n",
              "</table>\n",
              "</div>"
            ],
            "text/plain": [
              "        Date                                           HeadLine\n",
              "0 2001-01-01  win cena satisfying defeating undertaker bigge...\n",
              "1 2001-01-02  status quo disturbed ayodhya says vajpayee fis...\n",
              "2 2001-01-03  powerless north india gropes dark think laxman...\n",
              "3 2001-01-04  string pulled stephen hawking india vajpayee g...\n",
              "4 2001-01-05  light combat craft takes india club class hawk..."
            ]
          },
          "metadata": {
            "tags": []
          },
          "execution_count": 66
        }
      ]
    },
    {
      "cell_type": "markdown",
      "metadata": {
        "id": "ESMRYSH3GH_t"
      },
      "source": [
        "**READING BSE HISTORICAL STOCKS CSV FILE AND LOADING IT TO HISTSTOCKS DATAFRAME**"
      ]
    },
    {
      "cell_type": "code",
      "metadata": {
        "colab": {
          "base_uri": "https://localhost:8080/"
        },
        "id": "YE-glUlwREWK",
        "outputId": "b7f08ffc-ba53-4840-eb69-60830d1bd8bb"
      },
      "source": [
        "histstocks=pd.read_csv('^BSESN.csv')\r\n",
        "histstocks.drop('Volume', axis=1,inplace=True)\r\n",
        "print(histstocks.isnull().sum())\r\n",
        "print(histstocks.head(5))"
      ],
      "execution_count": 67,
      "outputs": [
        {
          "output_type": "stream",
          "text": [
            "Date          0\n",
            "Open         74\n",
            "High         74\n",
            "Low          74\n",
            "Close        74\n",
            "Adj Close    74\n",
            "dtype: int64\n",
            "         Date         Open         High          Low        Close    Adj Close\n",
            "0  2001-01-02  3953.219971  4028.570068  3929.370117  4018.879883  4018.879883\n",
            "1  2001-01-03  3977.580078  4067.659912  3977.580078  4060.020020  4060.020020\n",
            "2  2001-01-04  4180.970215  4180.970215  4109.549805  4115.370117  4115.370117\n",
            "3  2001-01-05  4116.339844  4195.009766  4115.350098  4183.729980  4183.729980\n",
            "4  2001-01-08  4164.759766  4206.720215  4101.529785  4120.430176  4120.430176\n"
          ],
          "name": "stdout"
        }
      ]
    },
    {
      "cell_type": "markdown",
      "metadata": {
        "id": "hKWIX7qrwA1v"
      },
      "source": [
        "**PREPROCESSING OF HISTSTOCKS DATAFRAME**"
      ]
    },
    {
      "cell_type": "code",
      "metadata": {
        "colab": {
          "base_uri": "https://localhost:8080/"
        },
        "id": "Um1733FmTuSp",
        "outputId": "a05f5de6-799d-40cd-b303-5654ee465c5b"
      },
      "source": [
        "histstocks.dropna(how='any', inplace=True)\r\n",
        "histstocks.isnull().sum()"
      ],
      "execution_count": 68,
      "outputs": [
        {
          "output_type": "execute_result",
          "data": {
            "text/plain": [
              "Date         0\n",
              "Open         0\n",
              "High         0\n",
              "Low          0\n",
              "Close        0\n",
              "Adj Close    0\n",
              "dtype: int64"
            ]
          },
          "metadata": {
            "tags": []
          },
          "execution_count": 68
        }
      ]
    },
    {
      "cell_type": "code",
      "metadata": {
        "colab": {
          "base_uri": "https://localhost:8080/"
        },
        "id": "adKEZQFMULRM",
        "outputId": "bec9ef2c-9668-4e00-c569-8a7457254b6d"
      },
      "source": [
        "histstocks.info()"
      ],
      "execution_count": 69,
      "outputs": [
        {
          "output_type": "stream",
          "text": [
            "<class 'pandas.core.frame.DataFrame'>\n",
            "Int64Index: 4814 entries, 0 to 4887\n",
            "Data columns (total 6 columns):\n",
            " #   Column     Non-Null Count  Dtype  \n",
            "---  ------     --------------  -----  \n",
            " 0   Date       4814 non-null   object \n",
            " 1   Open       4814 non-null   float64\n",
            " 2   High       4814 non-null   float64\n",
            " 3   Low        4814 non-null   float64\n",
            " 4   Close      4814 non-null   float64\n",
            " 5   Adj Close  4814 non-null   float64\n",
            "dtypes: float64(5), object(1)\n",
            "memory usage: 263.3+ KB\n"
          ],
          "name": "stdout"
        }
      ]
    },
    {
      "cell_type": "markdown",
      "metadata": {
        "id": "96gggGiJRPEn"
      },
      "source": [
        "Slicing array to make training set from 02-01-2001 to 31-12-2018"
      ]
    },
    {
      "cell_type": "code",
      "metadata": {
        "colab": {
          "base_uri": "https://localhost:8080/"
        },
        "id": "KoyIOxguWIkG",
        "outputId": "5128469d-940b-4962-c076-850af8126187"
      },
      "source": [
        "histstocks['Date']= pd.to_datetime(histstocks['Date'])\r\n",
        "\r\n",
        "histstocks=histstocks.set_index(histstocks['Date'])\r\n",
        "stocks = histstocks['2001-01-02':'2019-01-01']\r\n",
        "\r\n",
        "stocks.index = np.arange(0, len(stocks))\r\n",
        "\r\n",
        "print(stocks.head())\r\n",
        "\r\n",
        "stocks.isnull().sum()\r\n"
      ],
      "execution_count": 70,
      "outputs": [
        {
          "output_type": "stream",
          "text": [
            "        Date         Open         High          Low        Close    Adj Close\n",
            "0 2001-01-02  3953.219971  4028.570068  3929.370117  4018.879883  4018.879883\n",
            "1 2001-01-03  3977.580078  4067.659912  3977.580078  4060.020020  4060.020020\n",
            "2 2001-01-04  4180.970215  4180.970215  4109.549805  4115.370117  4115.370117\n",
            "3 2001-01-05  4116.339844  4195.009766  4115.350098  4183.729980  4183.729980\n",
            "4 2001-01-08  4164.759766  4206.720215  4101.529785  4120.430176  4120.430176\n"
          ],
          "name": "stdout"
        },
        {
          "output_type": "execute_result",
          "data": {
            "text/plain": [
              "Date         0\n",
              "Open         0\n",
              "High         0\n",
              "Low          0\n",
              "Close        0\n",
              "Adj Close    0\n",
              "dtype: int64"
            ]
          },
          "metadata": {
            "tags": []
          },
          "execution_count": 70
        }
      ]
    },
    {
      "cell_type": "markdown",
      "metadata": {
        "id": "NR9viaEPaqfX"
      },
      "source": [
        "Splitting News Data accordingly"
      ]
    },
    {
      "cell_type": "code",
      "metadata": {
        "colab": {
          "base_uri": "https://localhost:8080/"
        },
        "id": "LtZqmUZYaqG3",
        "outputId": "557ee58a-b3e1-414c-c859-d84985e549f3"
      },
      "source": [
        "\r\n",
        "news['Date']= pd.to_datetime(news['Date'])\r\n",
        "\r\n",
        "news=news.set_index(news['Date'])\r\n",
        "Xnews = news['2001-01-02':'2019-01-01']\r\n",
        "Xnews.index = np.arange(0, len(Xnews))\r\n",
        "\r\n",
        "print(Xnews.head())\r\n",
        "\r\n"
      ],
      "execution_count": 71,
      "outputs": [
        {
          "output_type": "stream",
          "text": [
            "        Date                                           HeadLine\n",
            "0 2001-01-02  status quo disturbed ayodhya says vajpayee fis...\n",
            "1 2001-01-03  powerless north india gropes dark think laxman...\n",
            "2 2001-01-04  string pulled stephen hawking india vajpayee g...\n",
            "3 2001-01-05  light combat craft takes india club class hawk...\n",
            "4 2001-01-06  light combat craft takes india club class hawk...\n"
          ],
          "name": "stdout"
        }
      ]
    },
    {
      "cell_type": "markdown",
      "metadata": {
        "id": "1oBIm9ZccsUg"
      },
      "source": [
        "**MERGING THE STOCK AND NEWS DATA SUCH THAT ALL THE NEWS HEADLINES OF DATES WHEN STOCK EXCHANGE WAS CLOSED WILL GET CONCATENATED TO NEXT DAY STOCK MARKETS OPEN**\r\n",
        "\r\n",
        "Since news of non stock days are bound to have an impact on the stock prices"
      ]
    },
    {
      "cell_type": "code",
      "metadata": {
        "id": "emmmPLiyc2Kq"
      },
      "source": [
        "data= pd.merge(stocks, Xnews, how='right', on='Date', indicator= True )\r\n"
      ],
      "execution_count": 72,
      "outputs": []
    },
    {
      "cell_type": "code",
      "metadata": {
        "colab": {
          "base_uri": "https://localhost:8080/"
        },
        "id": "Ymdc-q3_i8WY",
        "outputId": "03e02948-d7d6-4fcd-ffc1-045e3df68a3e"
      },
      "source": [
        "print(data.head(10))\r\n"
      ],
      "execution_count": 73,
      "outputs": [
        {
          "output_type": "stream",
          "text": [
            "        Date  ...      _merge\n",
            "0 2001-01-02  ...        both\n",
            "1 2001-01-03  ...        both\n",
            "2 2001-01-04  ...        both\n",
            "3 2001-01-05  ...        both\n",
            "4 2001-01-06  ...  right_only\n",
            "5 2001-01-07  ...  right_only\n",
            "6 2001-01-08  ...        both\n",
            "7 2001-01-09  ...        both\n",
            "8 2001-01-10  ...        both\n",
            "9 2001-01-11  ...        both\n",
            "\n",
            "[10 rows x 8 columns]\n"
          ],
          "name": "stdout"
        }
      ]
    },
    {
      "cell_type": "markdown",
      "metadata": {
        "id": "r6RKLi3KSNcz"
      },
      "source": [
        "See how many have been merged on basis of headlines"
      ]
    },
    {
      "cell_type": "code",
      "metadata": {
        "colab": {
          "base_uri": "https://localhost:8080/"
        },
        "id": "qXvJZYWZkeS8",
        "outputId": "572aa50f-672e-402f-d9f8-37f841f72aa0"
      },
      "source": [
        "print(data.groupby('_merge').nunique())\r\n"
      ],
      "execution_count": 74,
      "outputs": [
        {
          "output_type": "stream",
          "text": [
            "            Date  Open  High   Low  Close  Adj Close  HeadLine\n",
            "_merge                                                        \n",
            "left_only      0     0     0     0      0          0         0\n",
            "right_only  2128     0     0     0      0          0      2128\n",
            "both        4405  4394  4400  4401   4401       4401      4405\n"
          ],
          "name": "stdout"
        }
      ]
    },
    {
      "cell_type": "markdown",
      "metadata": {
        "id": "MzRK6NXin7Z7"
      },
      "source": [
        "Now we squish headlines where stocks are null (should get 0 right only) such that all headlines for dates where historical stock data is NA, will get concatenated to the headlines for the next day the stock market opens."
      ]
    },
    {
      "cell_type": "code",
      "metadata": {
        "colab": {
          "base_uri": "https://localhost:8080/",
          "height": 359
        },
        "id": "ia7ZoBFaoSSI",
        "outputId": "8ec28d43-37b7-4fc8-946d-2e7c433ae00b"
      },
      "source": [
        "\r\n",
        "for i in range(len(data['HeadLine'])-1):\r\n",
        "  if data['_merge'][i]=='right_only':\r\n",
        "    data['HeadLine'][i+1]=(data['HeadLine'][i]) +\" \" + (data['HeadLine'][i+1])\r\n",
        "data.head(10)"
      ],
      "execution_count": 75,
      "outputs": [
        {
          "output_type": "execute_result",
          "data": {
            "text/html": [
              "<div>\n",
              "<style scoped>\n",
              "    .dataframe tbody tr th:only-of-type {\n",
              "        vertical-align: middle;\n",
              "    }\n",
              "\n",
              "    .dataframe tbody tr th {\n",
              "        vertical-align: top;\n",
              "    }\n",
              "\n",
              "    .dataframe thead th {\n",
              "        text-align: right;\n",
              "    }\n",
              "</style>\n",
              "<table border=\"1\" class=\"dataframe\">\n",
              "  <thead>\n",
              "    <tr style=\"text-align: right;\">\n",
              "      <th></th>\n",
              "      <th>Date</th>\n",
              "      <th>Open</th>\n",
              "      <th>High</th>\n",
              "      <th>Low</th>\n",
              "      <th>Close</th>\n",
              "      <th>Adj Close</th>\n",
              "      <th>HeadLine</th>\n",
              "      <th>_merge</th>\n",
              "    </tr>\n",
              "  </thead>\n",
              "  <tbody>\n",
              "    <tr>\n",
              "      <th>0</th>\n",
              "      <td>2001-01-02</td>\n",
              "      <td>3953.219971</td>\n",
              "      <td>4028.570068</td>\n",
              "      <td>3929.370117</td>\n",
              "      <td>4018.879883</td>\n",
              "      <td>4018.879883</td>\n",
              "      <td>status quo disturbed ayodhya says vajpayee fis...</td>\n",
              "      <td>both</td>\n",
              "    </tr>\n",
              "    <tr>\n",
              "      <th>1</th>\n",
              "      <td>2001-01-03</td>\n",
              "      <td>3977.580078</td>\n",
              "      <td>4067.659912</td>\n",
              "      <td>3977.580078</td>\n",
              "      <td>4060.020020</td>\n",
              "      <td>4060.020020</td>\n",
              "      <td>powerless north india gropes dark think laxman...</td>\n",
              "      <td>both</td>\n",
              "    </tr>\n",
              "    <tr>\n",
              "      <th>2</th>\n",
              "      <td>2001-01-04</td>\n",
              "      <td>4180.970215</td>\n",
              "      <td>4180.970215</td>\n",
              "      <td>4109.549805</td>\n",
              "      <td>4115.370117</td>\n",
              "      <td>4115.370117</td>\n",
              "      <td>string pulled stephen hawking india vajpayee g...</td>\n",
              "      <td>both</td>\n",
              "    </tr>\n",
              "    <tr>\n",
              "      <th>3</th>\n",
              "      <td>2001-01-05</td>\n",
              "      <td>4116.339844</td>\n",
              "      <td>4195.009766</td>\n",
              "      <td>4115.350098</td>\n",
              "      <td>4183.729980</td>\n",
              "      <td>4183.729980</td>\n",
              "      <td>light combat craft takes india club class hawk...</td>\n",
              "      <td>both</td>\n",
              "    </tr>\n",
              "    <tr>\n",
              "      <th>4</th>\n",
              "      <td>2001-01-06</td>\n",
              "      <td>NaN</td>\n",
              "      <td>NaN</td>\n",
              "      <td>NaN</td>\n",
              "      <td>NaN</td>\n",
              "      <td>NaN</td>\n",
              "      <td>light combat craft takes india club class hawk...</td>\n",
              "      <td>right_only</td>\n",
              "    </tr>\n",
              "    <tr>\n",
              "      <th>5</th>\n",
              "      <td>2001-01-07</td>\n",
              "      <td>NaN</td>\n",
              "      <td>NaN</td>\n",
              "      <td>NaN</td>\n",
              "      <td>NaN</td>\n",
              "      <td>NaN</td>\n",
              "      <td>light combat craft takes india club class hawk...</td>\n",
              "      <td>right_only</td>\n",
              "    </tr>\n",
              "    <tr>\n",
              "      <th>6</th>\n",
              "      <td>2001-01-08</td>\n",
              "      <td>4164.759766</td>\n",
              "      <td>4206.720215</td>\n",
              "      <td>4101.529785</td>\n",
              "      <td>4120.430176</td>\n",
              "      <td>4120.430176</td>\n",
              "      <td>light combat craft takes india club class hawk...</td>\n",
              "      <td>both</td>\n",
              "    </tr>\n",
              "    <tr>\n",
              "      <th>7</th>\n",
              "      <td>2001-01-09</td>\n",
              "      <td>4114.740234</td>\n",
              "      <td>4166.839844</td>\n",
              "      <td>4101.009766</td>\n",
              "      <td>4125.310059</td>\n",
              "      <td>4125.310059</td>\n",
              "      <td>financier bharat shah held alleged links chott...</td>\n",
              "      <td>both</td>\n",
              "    </tr>\n",
              "    <tr>\n",
              "      <th>8</th>\n",
              "      <td>2001-01-10</td>\n",
              "      <td>4151.580078</td>\n",
              "      <td>4155.859863</td>\n",
              "      <td>4035.439941</td>\n",
              "      <td>4047.639893</td>\n",
              "      <td>4047.639893</td>\n",
              "      <td>fend pande tells doctors bureaucracy undermini...</td>\n",
              "      <td>both</td>\n",
              "    </tr>\n",
              "    <tr>\n",
              "      <th>9</th>\n",
              "      <td>2001-01-11</td>\n",
              "      <td>4066.129883</td>\n",
              "      <td>4077.540039</td>\n",
              "      <td>4006.540039</td>\n",
              "      <td>4027.129883</td>\n",
              "      <td>4027.129883</td>\n",
              "      <td>shreyas gopal scores ton karnataka stay top mu...</td>\n",
              "      <td>both</td>\n",
              "    </tr>\n",
              "  </tbody>\n",
              "</table>\n",
              "</div>"
            ],
            "text/plain": [
              "        Date  ...      _merge\n",
              "0 2001-01-02  ...        both\n",
              "1 2001-01-03  ...        both\n",
              "2 2001-01-04  ...        both\n",
              "3 2001-01-05  ...        both\n",
              "4 2001-01-06  ...  right_only\n",
              "5 2001-01-07  ...  right_only\n",
              "6 2001-01-08  ...        both\n",
              "7 2001-01-09  ...        both\n",
              "8 2001-01-10  ...        both\n",
              "9 2001-01-11  ...        both\n",
              "\n",
              "[10 rows x 8 columns]"
            ]
          },
          "metadata": {
            "tags": []
          },
          "execution_count": 75
        }
      ]
    },
    {
      "cell_type": "code",
      "metadata": {
        "colab": {
          "base_uri": "https://localhost:8080/"
        },
        "id": "BwbRUQMIus0u",
        "outputId": "98778ec4-2177-4a4f-9536-d1f327a9d512"
      },
      "source": [
        "data.dropna(how='any',inplace= True)\r\n",
        "print(data.groupby('_merge').nunique())\r\n"
      ],
      "execution_count": 76,
      "outputs": [
        {
          "output_type": "stream",
          "text": [
            "            Date  Open  High   Low  Close  Adj Close  HeadLine\n",
            "_merge                                                        \n",
            "left_only      0     0     0     0      0          0         0\n",
            "right_only     0     0     0     0      0          0         0\n",
            "both        4405  4394  4400  4401   4401       4401      4405\n"
          ],
          "name": "stdout"
        }
      ]
    },
    {
      "cell_type": "markdown",
      "metadata": {
        "id": "EbmtBZVsxBml"
      },
      "source": [
        "Drop merge column since it served its purpose"
      ]
    },
    {
      "cell_type": "code",
      "metadata": {
        "id": "puUBk5IevVPI"
      },
      "source": [
        "\r\n",
        "data.drop('_merge', inplace=True, axis=1)\r\n"
      ],
      "execution_count": 77,
      "outputs": []
    },
    {
      "cell_type": "code",
      "metadata": {
        "colab": {
          "base_uri": "https://localhost:8080/",
          "height": 204
        },
        "id": "X3-IbAhT6J5R",
        "outputId": "0e844739-1dfd-437a-f755-928d624e6e95"
      },
      "source": [
        "data.head()"
      ],
      "execution_count": 78,
      "outputs": [
        {
          "output_type": "execute_result",
          "data": {
            "text/html": [
              "<div>\n",
              "<style scoped>\n",
              "    .dataframe tbody tr th:only-of-type {\n",
              "        vertical-align: middle;\n",
              "    }\n",
              "\n",
              "    .dataframe tbody tr th {\n",
              "        vertical-align: top;\n",
              "    }\n",
              "\n",
              "    .dataframe thead th {\n",
              "        text-align: right;\n",
              "    }\n",
              "</style>\n",
              "<table border=\"1\" class=\"dataframe\">\n",
              "  <thead>\n",
              "    <tr style=\"text-align: right;\">\n",
              "      <th></th>\n",
              "      <th>Date</th>\n",
              "      <th>Open</th>\n",
              "      <th>High</th>\n",
              "      <th>Low</th>\n",
              "      <th>Close</th>\n",
              "      <th>Adj Close</th>\n",
              "      <th>HeadLine</th>\n",
              "    </tr>\n",
              "  </thead>\n",
              "  <tbody>\n",
              "    <tr>\n",
              "      <th>0</th>\n",
              "      <td>2001-01-02</td>\n",
              "      <td>3953.219971</td>\n",
              "      <td>4028.570068</td>\n",
              "      <td>3929.370117</td>\n",
              "      <td>4018.879883</td>\n",
              "      <td>4018.879883</td>\n",
              "      <td>status quo disturbed ayodhya says vajpayee fis...</td>\n",
              "    </tr>\n",
              "    <tr>\n",
              "      <th>1</th>\n",
              "      <td>2001-01-03</td>\n",
              "      <td>3977.580078</td>\n",
              "      <td>4067.659912</td>\n",
              "      <td>3977.580078</td>\n",
              "      <td>4060.020020</td>\n",
              "      <td>4060.020020</td>\n",
              "      <td>powerless north india gropes dark think laxman...</td>\n",
              "    </tr>\n",
              "    <tr>\n",
              "      <th>2</th>\n",
              "      <td>2001-01-04</td>\n",
              "      <td>4180.970215</td>\n",
              "      <td>4180.970215</td>\n",
              "      <td>4109.549805</td>\n",
              "      <td>4115.370117</td>\n",
              "      <td>4115.370117</td>\n",
              "      <td>string pulled stephen hawking india vajpayee g...</td>\n",
              "    </tr>\n",
              "    <tr>\n",
              "      <th>3</th>\n",
              "      <td>2001-01-05</td>\n",
              "      <td>4116.339844</td>\n",
              "      <td>4195.009766</td>\n",
              "      <td>4115.350098</td>\n",
              "      <td>4183.729980</td>\n",
              "      <td>4183.729980</td>\n",
              "      <td>light combat craft takes india club class hawk...</td>\n",
              "    </tr>\n",
              "    <tr>\n",
              "      <th>6</th>\n",
              "      <td>2001-01-08</td>\n",
              "      <td>4164.759766</td>\n",
              "      <td>4206.720215</td>\n",
              "      <td>4101.529785</td>\n",
              "      <td>4120.430176</td>\n",
              "      <td>4120.430176</td>\n",
              "      <td>light combat craft takes india club class hawk...</td>\n",
              "    </tr>\n",
              "  </tbody>\n",
              "</table>\n",
              "</div>"
            ],
            "text/plain": [
              "        Date  ...                                           HeadLine\n",
              "0 2001-01-02  ...  status quo disturbed ayodhya says vajpayee fis...\n",
              "1 2001-01-03  ...  powerless north india gropes dark think laxman...\n",
              "2 2001-01-04  ...  string pulled stephen hawking india vajpayee g...\n",
              "3 2001-01-05  ...  light combat craft takes india club class hawk...\n",
              "6 2001-01-08  ...  light combat craft takes india club class hawk...\n",
              "\n",
              "[5 rows x 7 columns]"
            ]
          },
          "metadata": {
            "tags": []
          },
          "execution_count": 78
        }
      ]
    },
    {
      "cell_type": "markdown",
      "metadata": {
        "id": "AJm1_1JRWJV5"
      },
      "source": [
        "**SENTIMENT ANALYSIS**"
      ]
    },
    {
      "cell_type": "markdown",
      "metadata": {
        "id": "86wrntoXStws"
      },
      "source": [
        "We use the textblob text processing package, you can read more about it here: https://textblob.readthedocs.io/en/dev/quickstart.html \r\n",
        "\r\n",
        "Here we calculate polarity of the news headlines in a range from -1 to 1"
      ]
    },
    {
      "cell_type": "code",
      "metadata": {
        "colab": {
          "base_uri": "https://localhost:8080/",
          "height": 204
        },
        "id": "m2KQvU0IZ90l",
        "outputId": "92ea5518-b90f-4d8e-8e91-b490d6be71c4"
      },
      "source": [
        "def getPolarity(text):\r\n",
        "  return  TextBlob(text).sentiment.polarity\r\n",
        "data['Polarity'] = data['HeadLine'].apply(getPolarity)\r\n",
        "data.head()\r\n"
      ],
      "execution_count": 79,
      "outputs": [
        {
          "output_type": "execute_result",
          "data": {
            "text/html": [
              "<div>\n",
              "<style scoped>\n",
              "    .dataframe tbody tr th:only-of-type {\n",
              "        vertical-align: middle;\n",
              "    }\n",
              "\n",
              "    .dataframe tbody tr th {\n",
              "        vertical-align: top;\n",
              "    }\n",
              "\n",
              "    .dataframe thead th {\n",
              "        text-align: right;\n",
              "    }\n",
              "</style>\n",
              "<table border=\"1\" class=\"dataframe\">\n",
              "  <thead>\n",
              "    <tr style=\"text-align: right;\">\n",
              "      <th></th>\n",
              "      <th>Date</th>\n",
              "      <th>Open</th>\n",
              "      <th>High</th>\n",
              "      <th>Low</th>\n",
              "      <th>Close</th>\n",
              "      <th>Adj Close</th>\n",
              "      <th>HeadLine</th>\n",
              "      <th>Polarity</th>\n",
              "    </tr>\n",
              "  </thead>\n",
              "  <tbody>\n",
              "    <tr>\n",
              "      <th>0</th>\n",
              "      <td>2001-01-02</td>\n",
              "      <td>3953.219971</td>\n",
              "      <td>4028.570068</td>\n",
              "      <td>3929.370117</td>\n",
              "      <td>4018.879883</td>\n",
              "      <td>4018.879883</td>\n",
              "      <td>status quo disturbed ayodhya says vajpayee fis...</td>\n",
              "      <td>0.113889</td>\n",
              "    </tr>\n",
              "    <tr>\n",
              "      <th>1</th>\n",
              "      <td>2001-01-03</td>\n",
              "      <td>3977.580078</td>\n",
              "      <td>4067.659912</td>\n",
              "      <td>3977.580078</td>\n",
              "      <td>4060.020020</td>\n",
              "      <td>4060.020020</td>\n",
              "      <td>powerless north india gropes dark think laxman...</td>\n",
              "      <td>0.111538</td>\n",
              "    </tr>\n",
              "    <tr>\n",
              "      <th>2</th>\n",
              "      <td>2001-01-04</td>\n",
              "      <td>4180.970215</td>\n",
              "      <td>4180.970215</td>\n",
              "      <td>4109.549805</td>\n",
              "      <td>4115.370117</td>\n",
              "      <td>4115.370117</td>\n",
              "      <td>string pulled stephen hawking india vajpayee g...</td>\n",
              "      <td>0.057956</td>\n",
              "    </tr>\n",
              "    <tr>\n",
              "      <th>3</th>\n",
              "      <td>2001-01-05</td>\n",
              "      <td>4116.339844</td>\n",
              "      <td>4195.009766</td>\n",
              "      <td>4115.350098</td>\n",
              "      <td>4183.729980</td>\n",
              "      <td>4183.729980</td>\n",
              "      <td>light combat craft takes india club class hawk...</td>\n",
              "      <td>0.268495</td>\n",
              "    </tr>\n",
              "    <tr>\n",
              "      <th>6</th>\n",
              "      <td>2001-01-08</td>\n",
              "      <td>4164.759766</td>\n",
              "      <td>4206.720215</td>\n",
              "      <td>4101.529785</td>\n",
              "      <td>4120.430176</td>\n",
              "      <td>4120.430176</td>\n",
              "      <td>light combat craft takes india club class hawk...</td>\n",
              "      <td>0.000362</td>\n",
              "    </tr>\n",
              "  </tbody>\n",
              "</table>\n",
              "</div>"
            ],
            "text/plain": [
              "        Date  ...  Polarity\n",
              "0 2001-01-02  ...  0.113889\n",
              "1 2001-01-03  ...  0.111538\n",
              "2 2001-01-04  ...  0.057956\n",
              "3 2001-01-05  ...  0.268495\n",
              "6 2001-01-08  ...  0.000362\n",
              "\n",
              "[5 rows x 8 columns]"
            ]
          },
          "metadata": {
            "tags": []
          },
          "execution_count": 79
        }
      ]
    },
    {
      "cell_type": "code",
      "metadata": {
        "colab": {
          "base_uri": "https://localhost:8080/",
          "height": 394
        },
        "id": "BVKT4QYbdjnk",
        "outputId": "11f3f141-54db-4208-c26b-55d08bae217e"
      },
      "source": [
        "plt.figure(figsize = (10,6))\r\n",
        "data['Polarity'].hist(color = 'purple')"
      ],
      "execution_count": 80,
      "outputs": [
        {
          "output_type": "execute_result",
          "data": {
            "text/plain": [
              "<matplotlib.axes._subplots.AxesSubplot at 0x7f7ab014d780>"
            ]
          },
          "metadata": {
            "tags": []
          },
          "execution_count": 80
        },
        {
          "output_type": "display_data",
          "data": {
            "image/png": "[encoded data removed]",
            "text/plain": [
              "<Figure size 720x432 with 1 Axes>"
            ]
          },
          "metadata": {
            "tags": []
          }
        }
      ]
    },
    {
      "cell_type": "markdown",
      "metadata": {
        "id": "6DnkGek2TB5n"
      },
      "source": [
        "We analyse sentiment using VADER sentiment analysis tool from Pythons NLTK library. Read about it here: https://pypi.org/project/vaderSentiment/"
      ]
    },
    {
      "cell_type": "code",
      "metadata": {
        "colab": {
          "base_uri": "https://localhost:8080/",
          "height": 419
        },
        "id": "mlYR9Htsdyhz",
        "outputId": "ae2e379a-79f2-4de3-f6e2-263930e9eb0f"
      },
      "source": [
        "#Adding sentiment score to df_news\r\n",
        "sia = SentimentIntensityAnalyzer()\r\n",
        "\r\n",
        "data['Compound'] = [sia.polarity_scores(v)['compound'] for v in data['HeadLine']]\r\n",
        "\r\n",
        "data"
      ],
      "execution_count": 81,
      "outputs": [
        {
          "output_type": "execute_result",
          "data": {
            "text/html": [
              "<div>\n",
              "<style scoped>\n",
              "    .dataframe tbody tr th:only-of-type {\n",
              "        vertical-align: middle;\n",
              "    }\n",
              "\n",
              "    .dataframe tbody tr th {\n",
              "        vertical-align: top;\n",
              "    }\n",
              "\n",
              "    .dataframe thead th {\n",
              "        text-align: right;\n",
              "    }\n",
              "</style>\n",
              "<table border=\"1\" class=\"dataframe\">\n",
              "  <thead>\n",
              "    <tr style=\"text-align: right;\">\n",
              "      <th></th>\n",
              "      <th>Date</th>\n",
              "      <th>Open</th>\n",
              "      <th>High</th>\n",
              "      <th>Low</th>\n",
              "      <th>Close</th>\n",
              "      <th>Adj Close</th>\n",
              "      <th>HeadLine</th>\n",
              "      <th>Polarity</th>\n",
              "      <th>Compound</th>\n",
              "    </tr>\n",
              "  </thead>\n",
              "  <tbody>\n",
              "    <tr>\n",
              "      <th>0</th>\n",
              "      <td>2001-01-02</td>\n",
              "      <td>3953.219971</td>\n",
              "      <td>4028.570068</td>\n",
              "      <td>3929.370117</td>\n",
              "      <td>4018.879883</td>\n",
              "      <td>4018.879883</td>\n",
              "      <td>status quo disturbed ayodhya says vajpayee fis...</td>\n",
              "      <td>0.113889</td>\n",
              "      <td>-0.9662</td>\n",
              "    </tr>\n",
              "    <tr>\n",
              "      <th>1</th>\n",
              "      <td>2001-01-03</td>\n",
              "      <td>3977.580078</td>\n",
              "      <td>4067.659912</td>\n",
              "      <td>3977.580078</td>\n",
              "      <td>4060.020020</td>\n",
              "      <td>4060.020020</td>\n",
              "      <td>powerless north india gropes dark think laxman...</td>\n",
              "      <td>0.111538</td>\n",
              "      <td>-0.7184</td>\n",
              "    </tr>\n",
              "    <tr>\n",
              "      <th>2</th>\n",
              "      <td>2001-01-04</td>\n",
              "      <td>4180.970215</td>\n",
              "      <td>4180.970215</td>\n",
              "      <td>4109.549805</td>\n",
              "      <td>4115.370117</td>\n",
              "      <td>4115.370117</td>\n",
              "      <td>string pulled stephen hawking india vajpayee g...</td>\n",
              "      <td>0.057956</td>\n",
              "      <td>0.4019</td>\n",
              "    </tr>\n",
              "    <tr>\n",
              "      <th>3</th>\n",
              "      <td>2001-01-05</td>\n",
              "      <td>4116.339844</td>\n",
              "      <td>4195.009766</td>\n",
              "      <td>4115.350098</td>\n",
              "      <td>4183.729980</td>\n",
              "      <td>4183.729980</td>\n",
              "      <td>light combat craft takes india club class hawk...</td>\n",
              "      <td>0.268495</td>\n",
              "      <td>0.9726</td>\n",
              "    </tr>\n",
              "    <tr>\n",
              "      <th>6</th>\n",
              "      <td>2001-01-08</td>\n",
              "      <td>4164.759766</td>\n",
              "      <td>4206.720215</td>\n",
              "      <td>4101.529785</td>\n",
              "      <td>4120.430176</td>\n",
              "      <td>4120.430176</td>\n",
              "      <td>light combat craft takes india club class hawk...</td>\n",
              "      <td>0.000362</td>\n",
              "      <td>-0.9974</td>\n",
              "    </tr>\n",
              "    <tr>\n",
              "      <th>...</th>\n",
              "      <td>...</td>\n",
              "      <td>...</td>\n",
              "      <td>...</td>\n",
              "      <td>...</td>\n",
              "      <td>...</td>\n",
              "      <td>...</td>\n",
              "      <td>...</td>\n",
              "      <td>...</td>\n",
              "      <td>...</td>\n",
              "    </tr>\n",
              "    <tr>\n",
              "      <th>6524</th>\n",
              "      <td>2018-12-24</td>\n",
              "      <td>35859.660156</td>\n",
              "      <td>35910.671875</td>\n",
              "      <td>35423.238281</td>\n",
              "      <td>35470.148438</td>\n",
              "      <td>35470.148438</td>\n",
              "      <td>xiaomi mi 5 redmi note 3 losing software suppo...</td>\n",
              "      <td>0.082810</td>\n",
              "      <td>-1.0000</td>\n",
              "    </tr>\n",
              "    <tr>\n",
              "      <th>6526</th>\n",
              "      <td>2018-12-26</td>\n",
              "      <td>35443.160156</td>\n",
              "      <td>35711.261719</td>\n",
              "      <td>35010.820313</td>\n",
              "      <td>35649.941406</td>\n",
              "      <td>35649.941406</td>\n",
              "      <td>gaja hit couple take poison man dies christmas...</td>\n",
              "      <td>0.044550</td>\n",
              "      <td>-1.0000</td>\n",
              "    </tr>\n",
              "    <tr>\n",
              "      <th>6527</th>\n",
              "      <td>2018-12-27</td>\n",
              "      <td>36002.109375</td>\n",
              "      <td>36041.238281</td>\n",
              "      <td>35781.949219</td>\n",
              "      <td>35807.281250</td>\n",
              "      <td>35807.281250</td>\n",
              "      <td>porn subscribers slam govt move ban 827 adult ...</td>\n",
              "      <td>0.010363</td>\n",
              "      <td>-0.9999</td>\n",
              "    </tr>\n",
              "    <tr>\n",
              "      <th>6528</th>\n",
              "      <td>2018-12-28</td>\n",
              "      <td>35911.988281</td>\n",
              "      <td>36194.781250</td>\n",
              "      <td>35911.988281</td>\n",
              "      <td>36076.718750</td>\n",
              "      <td>36076.718750</td>\n",
              "      <td>anticipatory bail murugadoss rrb je recruitmen...</td>\n",
              "      <td>0.017738</td>\n",
              "      <td>-0.9998</td>\n",
              "    </tr>\n",
              "    <tr>\n",
              "      <th>6531</th>\n",
              "      <td>2018-12-31</td>\n",
              "      <td>36239.191406</td>\n",
              "      <td>36285.460938</td>\n",
              "      <td>36033.949219</td>\n",
              "      <td>36068.328125</td>\n",
              "      <td>36068.328125</td>\n",
              "      <td>nrcb symposium looks curb wilt disease banana ...</td>\n",
              "      <td>0.058279</td>\n",
              "      <td>-1.0000</td>\n",
              "    </tr>\n",
              "  </tbody>\n",
              "</table>\n",
              "<p>4405 rows × 9 columns</p>\n",
              "</div>"
            ],
            "text/plain": [
              "           Date          Open  ...  Polarity  Compound\n",
              "0    2001-01-02   3953.219971  ...  0.113889   -0.9662\n",
              "1    2001-01-03   3977.580078  ...  0.111538   -0.7184\n",
              "2    2001-01-04   4180.970215  ...  0.057956    0.4019\n",
              "3    2001-01-05   4116.339844  ...  0.268495    0.9726\n",
              "6    2001-01-08   4164.759766  ...  0.000362   -0.9974\n",
              "...         ...           ...  ...       ...       ...\n",
              "6524 2018-12-24  35859.660156  ...  0.082810   -1.0000\n",
              "6526 2018-12-26  35443.160156  ...  0.044550   -1.0000\n",
              "6527 2018-12-27  36002.109375  ...  0.010363   -0.9999\n",
              "6528 2018-12-28  35911.988281  ...  0.017738   -0.9998\n",
              "6531 2018-12-31  36239.191406  ...  0.058279   -1.0000\n",
              "\n",
              "[4405 rows x 9 columns]"
            ]
          },
          "metadata": {
            "tags": []
          },
          "execution_count": 81
        }
      ]
    },
    {
      "cell_type": "code",
      "metadata": {
        "colab": {
          "base_uri": "https://localhost:8080/"
        },
        "id": "MKDNP3mYJAC9",
        "outputId": "4f8421a8-77f2-49d6-eef2-8cbef539253e"
      },
      "source": [
        "data.info()"
      ],
      "execution_count": 82,
      "outputs": [
        {
          "output_type": "stream",
          "text": [
            "<class 'pandas.core.frame.DataFrame'>\n",
            "Int64Index: 4405 entries, 0 to 6531\n",
            "Data columns (total 9 columns):\n",
            " #   Column     Non-Null Count  Dtype         \n",
            "---  ------     --------------  -----         \n",
            " 0   Date       4405 non-null   datetime64[ns]\n",
            " 1   Open       4405 non-null   float64       \n",
            " 2   High       4405 non-null   float64       \n",
            " 3   Low        4405 non-null   float64       \n",
            " 4   Close      4405 non-null   float64       \n",
            " 5   Adj Close  4405 non-null   float64       \n",
            " 6   HeadLine   4405 non-null   object        \n",
            " 7   Polarity   4405 non-null   float64       \n",
            " 8   Compound   4405 non-null   float64       \n",
            "dtypes: datetime64[ns](1), float64(7), object(1)\n",
            "memory usage: 344.1+ KB\n"
          ],
          "name": "stdout"
        }
      ]
    },
    {
      "cell_type": "markdown",
      "metadata": {
        "id": "Fvck21jdxksc"
      },
      "source": [
        "Drop headline column since we have no use of it anymore"
      ]
    },
    {
      "cell_type": "code",
      "metadata": {
        "colab": {
          "base_uri": "https://localhost:8080/",
          "height": 204
        },
        "id": "jwwJGjGBMKlc",
        "outputId": "bacc9f70-e998-4c20-eb48-af31f6facf4a"
      },
      "source": [
        "\r\n",
        "data.drop('HeadLine', axis = 1, inplace=True)\r\n",
        "data.head()"
      ],
      "execution_count": 83,
      "outputs": [
        {
          "output_type": "execute_result",
          "data": {
            "text/html": [
              "<div>\n",
              "<style scoped>\n",
              "    .dataframe tbody tr th:only-of-type {\n",
              "        vertical-align: middle;\n",
              "    }\n",
              "\n",
              "    .dataframe tbody tr th {\n",
              "        vertical-align: top;\n",
              "    }\n",
              "\n",
              "    .dataframe thead th {\n",
              "        text-align: right;\n",
              "    }\n",
              "</style>\n",
              "<table border=\"1\" class=\"dataframe\">\n",
              "  <thead>\n",
              "    <tr style=\"text-align: right;\">\n",
              "      <th></th>\n",
              "      <th>Date</th>\n",
              "      <th>Open</th>\n",
              "      <th>High</th>\n",
              "      <th>Low</th>\n",
              "      <th>Close</th>\n",
              "      <th>Adj Close</th>\n",
              "      <th>Polarity</th>\n",
              "      <th>Compound</th>\n",
              "    </tr>\n",
              "  </thead>\n",
              "  <tbody>\n",
              "    <tr>\n",
              "      <th>0</th>\n",
              "      <td>2001-01-02</td>\n",
              "      <td>3953.219971</td>\n",
              "      <td>4028.570068</td>\n",
              "      <td>3929.370117</td>\n",
              "      <td>4018.879883</td>\n",
              "      <td>4018.879883</td>\n",
              "      <td>0.113889</td>\n",
              "      <td>-0.9662</td>\n",
              "    </tr>\n",
              "    <tr>\n",
              "      <th>1</th>\n",
              "      <td>2001-01-03</td>\n",
              "      <td>3977.580078</td>\n",
              "      <td>4067.659912</td>\n",
              "      <td>3977.580078</td>\n",
              "      <td>4060.020020</td>\n",
              "      <td>4060.020020</td>\n",
              "      <td>0.111538</td>\n",
              "      <td>-0.7184</td>\n",
              "    </tr>\n",
              "    <tr>\n",
              "      <th>2</th>\n",
              "      <td>2001-01-04</td>\n",
              "      <td>4180.970215</td>\n",
              "      <td>4180.970215</td>\n",
              "      <td>4109.549805</td>\n",
              "      <td>4115.370117</td>\n",
              "      <td>4115.370117</td>\n",
              "      <td>0.057956</td>\n",
              "      <td>0.4019</td>\n",
              "    </tr>\n",
              "    <tr>\n",
              "      <th>3</th>\n",
              "      <td>2001-01-05</td>\n",
              "      <td>4116.339844</td>\n",
              "      <td>4195.009766</td>\n",
              "      <td>4115.350098</td>\n",
              "      <td>4183.729980</td>\n",
              "      <td>4183.729980</td>\n",
              "      <td>0.268495</td>\n",
              "      <td>0.9726</td>\n",
              "    </tr>\n",
              "    <tr>\n",
              "      <th>6</th>\n",
              "      <td>2001-01-08</td>\n",
              "      <td>4164.759766</td>\n",
              "      <td>4206.720215</td>\n",
              "      <td>4101.529785</td>\n",
              "      <td>4120.430176</td>\n",
              "      <td>4120.430176</td>\n",
              "      <td>0.000362</td>\n",
              "      <td>-0.9974</td>\n",
              "    </tr>\n",
              "  </tbody>\n",
              "</table>\n",
              "</div>"
            ],
            "text/plain": [
              "        Date         Open         High  ...    Adj Close  Polarity  Compound\n",
              "0 2001-01-02  3953.219971  4028.570068  ...  4018.879883  0.113889   -0.9662\n",
              "1 2001-01-03  3977.580078  4067.659912  ...  4060.020020  0.111538   -0.7184\n",
              "2 2001-01-04  4180.970215  4180.970215  ...  4115.370117  0.057956    0.4019\n",
              "3 2001-01-05  4116.339844  4195.009766  ...  4183.729980  0.268495    0.9726\n",
              "6 2001-01-08  4164.759766  4206.720215  ...  4120.430176  0.000362   -0.9974\n",
              "\n",
              "[5 rows x 8 columns]"
            ]
          },
          "metadata": {
            "tags": []
          },
          "execution_count": 83
        }
      ]
    },
    {
      "cell_type": "code",
      "metadata": {
        "colab": {
          "base_uri": "https://localhost:8080/",
          "height": 204
        },
        "id": "1kIqtEKnIfpY",
        "outputId": "c45c3b57-82d5-44b5-df21-f4dd17d84b6a"
      },
      "source": [
        "data.tail()"
      ],
      "execution_count": 84,
      "outputs": [
        {
          "output_type": "execute_result",
          "data": {
            "text/html": [
              "<div>\n",
              "<style scoped>\n",
              "    .dataframe tbody tr th:only-of-type {\n",
              "        vertical-align: middle;\n",
              "    }\n",
              "\n",
              "    .dataframe tbody tr th {\n",
              "        vertical-align: top;\n",
              "    }\n",
              "\n",
              "    .dataframe thead th {\n",
              "        text-align: right;\n",
              "    }\n",
              "</style>\n",
              "<table border=\"1\" class=\"dataframe\">\n",
              "  <thead>\n",
              "    <tr style=\"text-align: right;\">\n",
              "      <th></th>\n",
              "      <th>Date</th>\n",
              "      <th>Open</th>\n",
              "      <th>High</th>\n",
              "      <th>Low</th>\n",
              "      <th>Close</th>\n",
              "      <th>Adj Close</th>\n",
              "      <th>Polarity</th>\n",
              "      <th>Compound</th>\n",
              "    </tr>\n",
              "  </thead>\n",
              "  <tbody>\n",
              "    <tr>\n",
              "      <th>6524</th>\n",
              "      <td>2018-12-24</td>\n",
              "      <td>35859.660156</td>\n",
              "      <td>35910.671875</td>\n",
              "      <td>35423.238281</td>\n",
              "      <td>35470.148438</td>\n",
              "      <td>35470.148438</td>\n",
              "      <td>0.082810</td>\n",
              "      <td>-1.0000</td>\n",
              "    </tr>\n",
              "    <tr>\n",
              "      <th>6526</th>\n",
              "      <td>2018-12-26</td>\n",
              "      <td>35443.160156</td>\n",
              "      <td>35711.261719</td>\n",
              "      <td>35010.820313</td>\n",
              "      <td>35649.941406</td>\n",
              "      <td>35649.941406</td>\n",
              "      <td>0.044550</td>\n",
              "      <td>-1.0000</td>\n",
              "    </tr>\n",
              "    <tr>\n",
              "      <th>6527</th>\n",
              "      <td>2018-12-27</td>\n",
              "      <td>36002.109375</td>\n",
              "      <td>36041.238281</td>\n",
              "      <td>35781.949219</td>\n",
              "      <td>35807.281250</td>\n",
              "      <td>35807.281250</td>\n",
              "      <td>0.010363</td>\n",
              "      <td>-0.9999</td>\n",
              "    </tr>\n",
              "    <tr>\n",
              "      <th>6528</th>\n",
              "      <td>2018-12-28</td>\n",
              "      <td>35911.988281</td>\n",
              "      <td>36194.781250</td>\n",
              "      <td>35911.988281</td>\n",
              "      <td>36076.718750</td>\n",
              "      <td>36076.718750</td>\n",
              "      <td>0.017738</td>\n",
              "      <td>-0.9998</td>\n",
              "    </tr>\n",
              "    <tr>\n",
              "      <th>6531</th>\n",
              "      <td>2018-12-31</td>\n",
              "      <td>36239.191406</td>\n",
              "      <td>36285.460938</td>\n",
              "      <td>36033.949219</td>\n",
              "      <td>36068.328125</td>\n",
              "      <td>36068.328125</td>\n",
              "      <td>0.058279</td>\n",
              "      <td>-1.0000</td>\n",
              "    </tr>\n",
              "  </tbody>\n",
              "</table>\n",
              "</div>"
            ],
            "text/plain": [
              "           Date          Open          High  ...     Adj Close  Polarity  Compound\n",
              "6524 2018-12-24  35859.660156  35910.671875  ...  35470.148438  0.082810   -1.0000\n",
              "6526 2018-12-26  35443.160156  35711.261719  ...  35649.941406  0.044550   -1.0000\n",
              "6527 2018-12-27  36002.109375  36041.238281  ...  35807.281250  0.010363   -0.9999\n",
              "6528 2018-12-28  35911.988281  36194.781250  ...  36076.718750  0.017738   -0.9998\n",
              "6531 2018-12-31  36239.191406  36285.460938  ...  36068.328125  0.058279   -1.0000\n",
              "\n",
              "[5 rows x 8 columns]"
            ]
          },
          "metadata": {
            "tags": []
          },
          "execution_count": 84
        }
      ]
    },
    {
      "cell_type": "markdown",
      "metadata": {
        "id": "TkBAyfrKxtPI"
      },
      "source": [
        "Plotting the close price and a 28-day rolling mean of close price"
      ]
    },
    {
      "cell_type": "code",
      "metadata": {
        "colab": {
          "base_uri": "https://localhost:8080/",
          "height": 720
        },
        "id": "4dET0dIlkP3g",
        "outputId": "af82cbe4-42ce-44db-ff63-4cf30bda6654"
      },
      "source": [
        "# setting figure size\r\n",
        "plt.figure(figsize=(16,12))\r\n",
        "\r\n",
        "\r\n",
        "data['Close'].plot()\r\n",
        "data.rolling(window=28).mean()['Close'].plot()"
      ],
      "execution_count": 85,
      "outputs": [
        {
          "output_type": "execute_result",
          "data": {
            "text/plain": [
              "<matplotlib.axes._subplots.AxesSubplot at 0x7f7af1699f98>"
            ]
          },
          "metadata": {
            "tags": []
          },
          "execution_count": 85
        },
        {
          "output_type": "display_data",
          "data": {
            "image/png": "[encoded data removed]",
            "text/plain": [
              "<Figure size 1152x864 with 1 Axes>"
            ]
          },
          "metadata": {
            "tags": []
          }
        }
      ]
    },
    {
      "cell_type": "markdown",
      "metadata": {
        "id": "IU8H3BQsk80d"
      },
      "source": [
        "**CONVERTING TIMESERIES TO SUPERVISED LEARNING PROBLEM BY PREDICTING ONE TIME STEP AHEAD**"
      ]
    },
    {
      "cell_type": "code",
      "metadata": {
        "colab": {
          "base_uri": "https://localhost:8080/",
          "height": 289
        },
        "id": "kPK_6V_FkP0S",
        "outputId": "f899e6ce-eb1d-47df-e991-21db3b467f28"
      },
      "source": [
        "# shifting next day \r\n",
        "data['close_price_shifted'] = data['Close'].shift(-1) #this will be out target variable\r\n",
        "data['compound_price_shifted'] = data['Compound'].shift(-1)\r\n",
        "data['polarity_price_shifted'] = data['Polarity'].shift(-1)\r\n",
        "data.head()"
      ],
      "execution_count": 86,
      "outputs": [
        {
          "output_type": "execute_result",
          "data": {
            "text/html": [
              "<div>\n",
              "<style scoped>\n",
              "    .dataframe tbody tr th:only-of-type {\n",
              "        vertical-align: middle;\n",
              "    }\n",
              "\n",
              "    .dataframe tbody tr th {\n",
              "        vertical-align: top;\n",
              "    }\n",
              "\n",
              "    .dataframe thead th {\n",
              "        text-align: right;\n",
              "    }\n",
              "</style>\n",
              "<table border=\"1\" class=\"dataframe\">\n",
              "  <thead>\n",
              "    <tr style=\"text-align: right;\">\n",
              "      <th></th>\n",
              "      <th>Date</th>\n",
              "      <th>Open</th>\n",
              "      <th>High</th>\n",
              "      <th>Low</th>\n",
              "      <th>Close</th>\n",
              "      <th>Adj Close</th>\n",
              "      <th>Polarity</th>\n",
              "      <th>Compound</th>\n",
              "      <th>close_price_shifted</th>\n",
              "      <th>compound_price_shifted</th>\n",
              "      <th>polarity_price_shifted</th>\n",
              "    </tr>\n",
              "  </thead>\n",
              "  <tbody>\n",
              "    <tr>\n",
              "      <th>0</th>\n",
              "      <td>2001-01-02</td>\n",
              "      <td>3953.219971</td>\n",
              "      <td>4028.570068</td>\n",
              "      <td>3929.370117</td>\n",
              "      <td>4018.879883</td>\n",
              "      <td>4018.879883</td>\n",
              "      <td>0.113889</td>\n",
              "      <td>-0.9662</td>\n",
              "      <td>4060.020020</td>\n",
              "      <td>-0.7184</td>\n",
              "      <td>0.111538</td>\n",
              "    </tr>\n",
              "    <tr>\n",
              "      <th>1</th>\n",
              "      <td>2001-01-03</td>\n",
              "      <td>3977.580078</td>\n",
              "      <td>4067.659912</td>\n",
              "      <td>3977.580078</td>\n",
              "      <td>4060.020020</td>\n",
              "      <td>4060.020020</td>\n",
              "      <td>0.111538</td>\n",
              "      <td>-0.7184</td>\n",
              "      <td>4115.370117</td>\n",
              "      <td>0.4019</td>\n",
              "      <td>0.057956</td>\n",
              "    </tr>\n",
              "    <tr>\n",
              "      <th>2</th>\n",
              "      <td>2001-01-04</td>\n",
              "      <td>4180.970215</td>\n",
              "      <td>4180.970215</td>\n",
              "      <td>4109.549805</td>\n",
              "      <td>4115.370117</td>\n",
              "      <td>4115.370117</td>\n",
              "      <td>0.057956</td>\n",
              "      <td>0.4019</td>\n",
              "      <td>4183.729980</td>\n",
              "      <td>0.9726</td>\n",
              "      <td>0.268495</td>\n",
              "    </tr>\n",
              "    <tr>\n",
              "      <th>3</th>\n",
              "      <td>2001-01-05</td>\n",
              "      <td>4116.339844</td>\n",
              "      <td>4195.009766</td>\n",
              "      <td>4115.350098</td>\n",
              "      <td>4183.729980</td>\n",
              "      <td>4183.729980</td>\n",
              "      <td>0.268495</td>\n",
              "      <td>0.9726</td>\n",
              "      <td>4120.430176</td>\n",
              "      <td>-0.9974</td>\n",
              "      <td>0.000362</td>\n",
              "    </tr>\n",
              "    <tr>\n",
              "      <th>6</th>\n",
              "      <td>2001-01-08</td>\n",
              "      <td>4164.759766</td>\n",
              "      <td>4206.720215</td>\n",
              "      <td>4101.529785</td>\n",
              "      <td>4120.430176</td>\n",
              "      <td>4120.430176</td>\n",
              "      <td>0.000362</td>\n",
              "      <td>-0.9974</td>\n",
              "      <td>4125.310059</td>\n",
              "      <td>-0.9940</td>\n",
              "      <td>-0.052749</td>\n",
              "    </tr>\n",
              "  </tbody>\n",
              "</table>\n",
              "</div>"
            ],
            "text/plain": [
              "        Date         Open  ...  compound_price_shifted  polarity_price_shifted\n",
              "0 2001-01-02  3953.219971  ...                 -0.7184                0.111538\n",
              "1 2001-01-03  3977.580078  ...                  0.4019                0.057956\n",
              "2 2001-01-04  4180.970215  ...                  0.9726                0.268495\n",
              "3 2001-01-05  4116.339844  ...                 -0.9974                0.000362\n",
              "6 2001-01-08  4164.759766  ...                 -0.9940               -0.052749\n",
              "\n",
              "[5 rows x 11 columns]"
            ]
          },
          "metadata": {
            "tags": []
          },
          "execution_count": 86
        }
      ]
    },
    {
      "cell_type": "markdown",
      "metadata": {
        "id": "1HHopARVyVYS"
      },
      "source": [
        "Creating features like moving average for 7,14,21 days and standard deviation for 7 days"
      ]
    },
    {
      "cell_type": "code",
      "metadata": {
        "colab": {
          "base_uri": "https://localhost:8080/",
          "height": 360
        },
        "id": "uBXPE3LnkPwg",
        "outputId": "b6e36a9f-5459-4056-f685-b05f13664558"
      },
      "source": [
        "\r\n",
        "ma_day = [7, 14, 21]\r\n",
        "\r\n",
        "for ma in ma_day:\r\n",
        "  column_name = f\"MA for {ma} days\"\r\n",
        "  data[column_name] = data['Adj Close'].rolling(ma).mean()\r\n",
        "\r\n",
        "data[\"std_dev\"]=data['Adj Close'].rolling(7).std()\r\n",
        "data.head()"
      ],
      "execution_count": 87,
      "outputs": [
        {
          "output_type": "execute_result",
          "data": {
            "text/html": [
              "<div>\n",
              "<style scoped>\n",
              "    .dataframe tbody tr th:only-of-type {\n",
              "        vertical-align: middle;\n",
              "    }\n",
              "\n",
              "    .dataframe tbody tr th {\n",
              "        vertical-align: top;\n",
              "    }\n",
              "\n",
              "    .dataframe thead th {\n",
              "        text-align: right;\n",
              "    }\n",
              "</style>\n",
              "<table border=\"1\" class=\"dataframe\">\n",
              "  <thead>\n",
              "    <tr style=\"text-align: right;\">\n",
              "      <th></th>\n",
              "      <th>Date</th>\n",
              "      <th>Open</th>\n",
              "      <th>High</th>\n",
              "      <th>Low</th>\n",
              "      <th>Close</th>\n",
              "      <th>Adj Close</th>\n",
              "      <th>Polarity</th>\n",
              "      <th>Compound</th>\n",
              "      <th>close_price_shifted</th>\n",
              "      <th>compound_price_shifted</th>\n",
              "      <th>polarity_price_shifted</th>\n",
              "      <th>MA for 7 days</th>\n",
              "      <th>MA for 14 days</th>\n",
              "      <th>MA for 21 days</th>\n",
              "      <th>std_dev</th>\n",
              "    </tr>\n",
              "  </thead>\n",
              "  <tbody>\n",
              "    <tr>\n",
              "      <th>0</th>\n",
              "      <td>2001-01-02</td>\n",
              "      <td>3953.219971</td>\n",
              "      <td>4028.570068</td>\n",
              "      <td>3929.370117</td>\n",
              "      <td>4018.879883</td>\n",
              "      <td>4018.879883</td>\n",
              "      <td>0.113889</td>\n",
              "      <td>-0.9662</td>\n",
              "      <td>4060.020020</td>\n",
              "      <td>-0.7184</td>\n",
              "      <td>0.111538</td>\n",
              "      <td>NaN</td>\n",
              "      <td>NaN</td>\n",
              "      <td>NaN</td>\n",
              "      <td>NaN</td>\n",
              "    </tr>\n",
              "    <tr>\n",
              "      <th>1</th>\n",
              "      <td>2001-01-03</td>\n",
              "      <td>3977.580078</td>\n",
              "      <td>4067.659912</td>\n",
              "      <td>3977.580078</td>\n",
              "      <td>4060.020020</td>\n",
              "      <td>4060.020020</td>\n",
              "      <td>0.111538</td>\n",
              "      <td>-0.7184</td>\n",
              "      <td>4115.370117</td>\n",
              "      <td>0.4019</td>\n",
              "      <td>0.057956</td>\n",
              "      <td>NaN</td>\n",
              "      <td>NaN</td>\n",
              "      <td>NaN</td>\n",
              "      <td>NaN</td>\n",
              "    </tr>\n",
              "    <tr>\n",
              "      <th>2</th>\n",
              "      <td>2001-01-04</td>\n",
              "      <td>4180.970215</td>\n",
              "      <td>4180.970215</td>\n",
              "      <td>4109.549805</td>\n",
              "      <td>4115.370117</td>\n",
              "      <td>4115.370117</td>\n",
              "      <td>0.057956</td>\n",
              "      <td>0.4019</td>\n",
              "      <td>4183.729980</td>\n",
              "      <td>0.9726</td>\n",
              "      <td>0.268495</td>\n",
              "      <td>NaN</td>\n",
              "      <td>NaN</td>\n",
              "      <td>NaN</td>\n",
              "      <td>NaN</td>\n",
              "    </tr>\n",
              "    <tr>\n",
              "      <th>3</th>\n",
              "      <td>2001-01-05</td>\n",
              "      <td>4116.339844</td>\n",
              "      <td>4195.009766</td>\n",
              "      <td>4115.350098</td>\n",
              "      <td>4183.729980</td>\n",
              "      <td>4183.729980</td>\n",
              "      <td>0.268495</td>\n",
              "      <td>0.9726</td>\n",
              "      <td>4120.430176</td>\n",
              "      <td>-0.9974</td>\n",
              "      <td>0.000362</td>\n",
              "      <td>NaN</td>\n",
              "      <td>NaN</td>\n",
              "      <td>NaN</td>\n",
              "      <td>NaN</td>\n",
              "    </tr>\n",
              "    <tr>\n",
              "      <th>6</th>\n",
              "      <td>2001-01-08</td>\n",
              "      <td>4164.759766</td>\n",
              "      <td>4206.720215</td>\n",
              "      <td>4101.529785</td>\n",
              "      <td>4120.430176</td>\n",
              "      <td>4120.430176</td>\n",
              "      <td>0.000362</td>\n",
              "      <td>-0.9974</td>\n",
              "      <td>4125.310059</td>\n",
              "      <td>-0.9940</td>\n",
              "      <td>-0.052749</td>\n",
              "      <td>NaN</td>\n",
              "      <td>NaN</td>\n",
              "      <td>NaN</td>\n",
              "      <td>NaN</td>\n",
              "    </tr>\n",
              "  </tbody>\n",
              "</table>\n",
              "</div>"
            ],
            "text/plain": [
              "        Date         Open         High  ...  MA for 14 days  MA for 21 days  std_dev\n",
              "0 2001-01-02  3953.219971  4028.570068  ...             NaN             NaN      NaN\n",
              "1 2001-01-03  3977.580078  4067.659912  ...             NaN             NaN      NaN\n",
              "2 2001-01-04  4180.970215  4180.970215  ...             NaN             NaN      NaN\n",
              "3 2001-01-05  4116.339844  4195.009766  ...             NaN             NaN      NaN\n",
              "6 2001-01-08  4164.759766  4206.720215  ...             NaN             NaN      NaN\n",
              "\n",
              "[5 rows x 15 columns]"
            ]
          },
          "metadata": {
            "tags": []
          },
          "execution_count": 87
        }
      ]
    },
    {
      "cell_type": "code",
      "metadata": {
        "colab": {
          "base_uri": "https://localhost:8080/",
          "height": 326
        },
        "id": "LStuQPqKnEck",
        "outputId": "1a7ef67a-5e7b-4181-b434-861d7f799881"
      },
      "source": [
        "#dropping rows with NaN values\r\n",
        "data.dropna(axis=0, how='any', inplace=True)\r\n",
        "data.head()"
      ],
      "execution_count": 88,
      "outputs": [
        {
          "output_type": "execute_result",
          "data": {
            "text/html": [
              "<div>\n",
              "<style scoped>\n",
              "    .dataframe tbody tr th:only-of-type {\n",
              "        vertical-align: middle;\n",
              "    }\n",
              "\n",
              "    .dataframe tbody tr th {\n",
              "        vertical-align: top;\n",
              "    }\n",
              "\n",
              "    .dataframe thead th {\n",
              "        text-align: right;\n",
              "    }\n",
              "</style>\n",
              "<table border=\"1\" class=\"dataframe\">\n",
              "  <thead>\n",
              "    <tr style=\"text-align: right;\">\n",
              "      <th></th>\n",
              "      <th>Date</th>\n",
              "      <th>Open</th>\n",
              "      <th>High</th>\n",
              "      <th>Low</th>\n",
              "      <th>Close</th>\n",
              "      <th>Adj Close</th>\n",
              "      <th>Polarity</th>\n",
              "      <th>Compound</th>\n",
              "      <th>close_price_shifted</th>\n",
              "      <th>compound_price_shifted</th>\n",
              "      <th>polarity_price_shifted</th>\n",
              "      <th>MA for 7 days</th>\n",
              "      <th>MA for 14 days</th>\n",
              "      <th>MA for 21 days</th>\n",
              "      <th>std_dev</th>\n",
              "    </tr>\n",
              "  </thead>\n",
              "  <tbody>\n",
              "    <tr>\n",
              "      <th>27</th>\n",
              "      <td>2001-02-09</td>\n",
              "      <td>4395.439941</td>\n",
              "      <td>4436.479980</td>\n",
              "      <td>4387.990234</td>\n",
              "      <td>4397.330078</td>\n",
              "      <td>4397.330078</td>\n",
              "      <td>0.154630</td>\n",
              "      <td>0.9877</td>\n",
              "      <td>4406.299805</td>\n",
              "      <td>0.8749</td>\n",
              "      <td>0.058547</td>\n",
              "      <td>4353.654297</td>\n",
              "      <td>4313.526437</td>\n",
              "      <td>4240.988107</td>\n",
              "      <td>40.081823</td>\n",
              "    </tr>\n",
              "    <tr>\n",
              "      <th>30</th>\n",
              "      <td>2001-02-12</td>\n",
              "      <td>4429.910156</td>\n",
              "      <td>4446.080078</td>\n",
              "      <td>4389.020020</td>\n",
              "      <td>4406.299805</td>\n",
              "      <td>4406.299805</td>\n",
              "      <td>0.058547</td>\n",
              "      <td>0.8749</td>\n",
              "      <td>4363.049805</td>\n",
              "      <td>-0.8442</td>\n",
              "      <td>-0.087262</td>\n",
              "      <td>4370.824289</td>\n",
              "      <td>4340.610003</td>\n",
              "      <td>4259.436675</td>\n",
              "      <td>31.050910</td>\n",
              "    </tr>\n",
              "    <tr>\n",
              "      <th>31</th>\n",
              "      <td>2001-02-13</td>\n",
              "      <td>4437.319824</td>\n",
              "      <td>4440.759766</td>\n",
              "      <td>4354.100098</td>\n",
              "      <td>4363.049805</td>\n",
              "      <td>4363.049805</td>\n",
              "      <td>-0.087262</td>\n",
              "      <td>-0.8442</td>\n",
              "      <td>4363.109863</td>\n",
              "      <td>0.0516</td>\n",
              "      <td>-0.043802</td>\n",
              "      <td>4372.365723</td>\n",
              "      <td>4345.349993</td>\n",
              "      <td>4273.866664</td>\n",
              "      <td>30.232772</td>\n",
              "    </tr>\n",
              "    <tr>\n",
              "      <th>32</th>\n",
              "      <td>2001-02-14</td>\n",
              "      <td>4350.330078</td>\n",
              "      <td>4375.509766</td>\n",
              "      <td>4320.890137</td>\n",
              "      <td>4363.109863</td>\n",
              "      <td>4363.109863</td>\n",
              "      <td>-0.043802</td>\n",
              "      <td>0.0516</td>\n",
              "      <td>4437.990234</td>\n",
              "      <td>-0.9694</td>\n",
              "      <td>0.091958</td>\n",
              "      <td>4371.314244</td>\n",
              "      <td>4347.970703</td>\n",
              "      <td>4285.663795</td>\n",
              "      <td>30.436989</td>\n",
              "    </tr>\n",
              "    <tr>\n",
              "      <th>33</th>\n",
              "      <td>2001-02-15</td>\n",
              "      <td>4372.600098</td>\n",
              "      <td>4459.189941</td>\n",
              "      <td>4371.950195</td>\n",
              "      <td>4437.990234</td>\n",
              "      <td>4437.990234</td>\n",
              "      <td>0.091958</td>\n",
              "      <td>-0.9694</td>\n",
              "      <td>4330.319824</td>\n",
              "      <td>-0.9723</td>\n",
              "      <td>-0.011429</td>\n",
              "      <td>4380.271415</td>\n",
              "      <td>4355.668562</td>\n",
              "      <td>4297.771426</td>\n",
              "      <td>39.637369</td>\n",
              "    </tr>\n",
              "  </tbody>\n",
              "</table>\n",
              "</div>"
            ],
            "text/plain": [
              "         Date         Open  ...  MA for 21 days    std_dev\n",
              "27 2001-02-09  4395.439941  ...     4240.988107  40.081823\n",
              "30 2001-02-12  4429.910156  ...     4259.436675  31.050910\n",
              "31 2001-02-13  4437.319824  ...     4273.866664  30.232772\n",
              "32 2001-02-14  4350.330078  ...     4285.663795  30.436989\n",
              "33 2001-02-15  4372.600098  ...     4297.771426  39.637369\n",
              "\n",
              "[5 rows x 15 columns]"
            ]
          },
          "metadata": {
            "tags": []
          },
          "execution_count": 88
        }
      ]
    },
    {
      "cell_type": "markdown",
      "metadata": {
        "id": "rwrKfpfJbaQv"
      },
      "source": [
        "Creating the target variable and having select columns in train data"
      ]
    },
    {
      "cell_type": "code",
      "metadata": {
        "id": "KwJnkNxZkPtI"
      },
      "source": [
        "y= data['close_price_shifted']\r\n",
        "cols = ['Close', 'Compound', 'Polarity','Open', 'High', 'Low', 'MA for 7 days', 'MA for 14 days','MA for 21 days', 'std_dev', 'compound_price_shifted', 'polarity_price_shifted']\r\n",
        "X= data[cols]"
      ],
      "execution_count": 89,
      "outputs": []
    },
    {
      "cell_type": "code",
      "metadata": {
        "colab": {
          "base_uri": "https://localhost:8080/",
          "height": 241
        },
        "id": "XeWA-6YNkPpv",
        "outputId": "66406093-228c-4603-8a91-bb56945bc6ce"
      },
      "source": [
        "X.head()"
      ],
      "execution_count": 90,
      "outputs": [
        {
          "output_type": "execute_result",
          "data": {
            "text/html": [
              "<div>\n",
              "<style scoped>\n",
              "    .dataframe tbody tr th:only-of-type {\n",
              "        vertical-align: middle;\n",
              "    }\n",
              "\n",
              "    .dataframe tbody tr th {\n",
              "        vertical-align: top;\n",
              "    }\n",
              "\n",
              "    .dataframe thead th {\n",
              "        text-align: right;\n",
              "    }\n",
              "</style>\n",
              "<table border=\"1\" class=\"dataframe\">\n",
              "  <thead>\n",
              "    <tr style=\"text-align: right;\">\n",
              "      <th></th>\n",
              "      <th>Close</th>\n",
              "      <th>Compound</th>\n",
              "      <th>Polarity</th>\n",
              "      <th>Open</th>\n",
              "      <th>High</th>\n",
              "      <th>Low</th>\n",
              "      <th>MA for 7 days</th>\n",
              "      <th>MA for 14 days</th>\n",
              "      <th>MA for 21 days</th>\n",
              "      <th>std_dev</th>\n",
              "      <th>compound_price_shifted</th>\n",
              "      <th>polarity_price_shifted</th>\n",
              "    </tr>\n",
              "  </thead>\n",
              "  <tbody>\n",
              "    <tr>\n",
              "      <th>27</th>\n",
              "      <td>4397.330078</td>\n",
              "      <td>0.9877</td>\n",
              "      <td>0.154630</td>\n",
              "      <td>4395.439941</td>\n",
              "      <td>4436.479980</td>\n",
              "      <td>4387.990234</td>\n",
              "      <td>4353.654297</td>\n",
              "      <td>4313.526437</td>\n",
              "      <td>4240.988107</td>\n",
              "      <td>40.081823</td>\n",
              "      <td>0.8749</td>\n",
              "      <td>0.058547</td>\n",
              "    </tr>\n",
              "    <tr>\n",
              "      <th>30</th>\n",
              "      <td>4406.299805</td>\n",
              "      <td>0.8749</td>\n",
              "      <td>0.058547</td>\n",
              "      <td>4429.910156</td>\n",
              "      <td>4446.080078</td>\n",
              "      <td>4389.020020</td>\n",
              "      <td>4370.824289</td>\n",
              "      <td>4340.610003</td>\n",
              "      <td>4259.436675</td>\n",
              "      <td>31.050910</td>\n",
              "      <td>-0.8442</td>\n",
              "      <td>-0.087262</td>\n",
              "    </tr>\n",
              "    <tr>\n",
              "      <th>31</th>\n",
              "      <td>4363.049805</td>\n",
              "      <td>-0.8442</td>\n",
              "      <td>-0.087262</td>\n",
              "      <td>4437.319824</td>\n",
              "      <td>4440.759766</td>\n",
              "      <td>4354.100098</td>\n",
              "      <td>4372.365723</td>\n",
              "      <td>4345.349993</td>\n",
              "      <td>4273.866664</td>\n",
              "      <td>30.232772</td>\n",
              "      <td>0.0516</td>\n",
              "      <td>-0.043802</td>\n",
              "    </tr>\n",
              "    <tr>\n",
              "      <th>32</th>\n",
              "      <td>4363.109863</td>\n",
              "      <td>0.0516</td>\n",
              "      <td>-0.043802</td>\n",
              "      <td>4350.330078</td>\n",
              "      <td>4375.509766</td>\n",
              "      <td>4320.890137</td>\n",
              "      <td>4371.314244</td>\n",
              "      <td>4347.970703</td>\n",
              "      <td>4285.663795</td>\n",
              "      <td>30.436989</td>\n",
              "      <td>-0.9694</td>\n",
              "      <td>0.091958</td>\n",
              "    </tr>\n",
              "    <tr>\n",
              "      <th>33</th>\n",
              "      <td>4437.990234</td>\n",
              "      <td>-0.9694</td>\n",
              "      <td>0.091958</td>\n",
              "      <td>4372.600098</td>\n",
              "      <td>4459.189941</td>\n",
              "      <td>4371.950195</td>\n",
              "      <td>4380.271415</td>\n",
              "      <td>4355.668562</td>\n",
              "      <td>4297.771426</td>\n",
              "      <td>39.637369</td>\n",
              "      <td>-0.9723</td>\n",
              "      <td>-0.011429</td>\n",
              "    </tr>\n",
              "  </tbody>\n",
              "</table>\n",
              "</div>"
            ],
            "text/plain": [
              "          Close  Compound  ...  compound_price_shifted  polarity_price_shifted\n",
              "27  4397.330078    0.9877  ...                  0.8749                0.058547\n",
              "30  4406.299805    0.8749  ...                 -0.8442               -0.087262\n",
              "31  4363.049805   -0.8442  ...                  0.0516               -0.043802\n",
              "32  4363.109863    0.0516  ...                 -0.9694                0.091958\n",
              "33  4437.990234   -0.9694  ...                 -0.9723               -0.011429\n",
              "\n",
              "[5 rows x 12 columns]"
            ]
          },
          "metadata": {
            "tags": []
          },
          "execution_count": 90
        }
      ]
    },
    {
      "cell_type": "markdown",
      "metadata": {
        "id": "v7bQSlD0b95l"
      },
      "source": [
        "**FEATURES SCALING AND RESHAPING NUMPY ARRAY**"
      ]
    },
    {
      "cell_type": "code",
      "metadata": {
        "id": "-BiNKaEMkPlo"
      },
      "source": [
        "from sklearn.preprocessing import MinMaxScaler\r\n",
        "sc_X = MinMaxScaler(feature_range = (-1, 1))\r\n",
        "sc_Y = MinMaxScaler(feature_range = (-1, 1))\r\n",
        "y = np.array(y).reshape((len(y) ,1))\r\n",
        "train_data= sc_X.fit_transform(X)\r\n",
        "target= sc_Y.fit_transform(y)"
      ],
      "execution_count": 91,
      "outputs": []
    },
    {
      "cell_type": "code",
      "metadata": {
        "colab": {
          "base_uri": "https://localhost:8080/"
        },
        "id": "3-jUcfazkPhY",
        "outputId": "a7d8eaaa-2610-4212-9c6d-386a676ce261"
      },
      "source": [
        "train_data=np.array(train_data)\r\n",
        "print(train_data.shape)\r\n",
        "print(target.shape)"
      ],
      "execution_count": 92,
      "outputs": [
        {
          "output_type": "stream",
          "text": [
            "(4384, 12)\n",
            "(4384, 1)\n"
          ],
          "name": "stdout"
        }
      ]
    },
    {
      "cell_type": "markdown",
      "metadata": {
        "id": "Rn865lvScLeK"
      },
      "source": [
        "X train has the (number of rows, number of features and timestep to predict) as dimensions TO feed into the LSTM layer"
      ]
    },
    {
      "cell_type": "code",
      "metadata": {
        "id": "0N_IbD6xkPYX"
      },
      "source": [
        "X_train = np.reshape(train_data, (train_data.shape[0], train_data.shape[1], 1))"
      ],
      "execution_count": 93,
      "outputs": []
    },
    {
      "cell_type": "markdown",
      "metadata": {
        "id": "IdWX9SN_zOOY"
      },
      "source": [
        "**USING RECURRENT NEURAL NETWORK SPECIFICALLY LSTM AS PREDICTOR ALGORITHM BECAUSE OF ITS CAPABILITY OF LEARNING ORDER DEPENDENCY**"
      ]
    },
    {
      "cell_type": "code",
      "metadata": {
        "colab": {
          "base_uri": "https://localhost:8080/"
        },
        "id": "oxv23jfMkPUG",
        "outputId": "57eec368-842a-4e33-8b0b-637a00f8cc99"
      },
      "source": [
        "from keras.models import Sequential\r\n",
        "from keras.layers import Dense\r\n",
        "from keras.layers import LSTM\r\n",
        "from keras.layers import Dropout\r\n",
        "\r\n",
        "regressor = Sequential()\r\n",
        "regressor.add(LSTM(units = 200, return_sequences = True, input_shape = (X_train.shape[1], 1)))\r\n",
        "regressor.add(Dropout(0.2))\r\n",
        "regressor.add(LSTM(units = 200, return_sequences = True))\r\n",
        "regressor.add(Dropout(0.2))\r\n",
        "regressor.add(LSTM(units = 200, return_sequences = True))\r\n",
        "regressor.add(Dropout(0.2))\r\n",
        "regressor.add(LSTM(units = 64))\r\n",
        "regressor.add(Dropout(0.2))\r\n",
        "regressor.add(Dense(units = 1))\r\n",
        "\r\n",
        "regressor.compile(optimizer = 'adam', loss = 'mean_squared_error')\r\n",
        "regressor.summary()"
      ],
      "execution_count": 94,
      "outputs": [
        {
          "output_type": "stream",
          "text": [
            "Model: \"sequential_1\"\n",
            "_________________________________________________________________\n",
            "Layer (type)                 Output Shape              Param #   \n",
            "=================================================================\n",
            "lstm_4 (LSTM)                (None, 12, 200)           161600    \n",
            "_________________________________________________________________\n",
            "dropout_4 (Dropout)          (None, 12, 200)           0         \n",
            "_________________________________________________________________\n",
            "lstm_5 (LSTM)                (None, 12, 200)           320800    \n",
            "_________________________________________________________________\n",
            "dropout_5 (Dropout)          (None, 12, 200)           0         \n",
            "_________________________________________________________________\n",
            "lstm_6 (LSTM)                (None, 12, 200)           320800    \n",
            "_________________________________________________________________\n",
            "dropout_6 (Dropout)          (None, 12, 200)           0         \n",
            "_________________________________________________________________\n",
            "lstm_7 (LSTM)                (None, 64)                67840     \n",
            "_________________________________________________________________\n",
            "dropout_7 (Dropout)          (None, 64)                0         \n",
            "_________________________________________________________________\n",
            "dense_1 (Dense)              (None, 1)                 65        \n",
            "=================================================================\n",
            "Total params: 871,105\n",
            "Trainable params: 871,105\n",
            "Non-trainable params: 0\n",
            "_________________________________________________________________\n"
          ],
          "name": "stdout"
        }
      ]
    },
    {
      "cell_type": "code",
      "metadata": {
        "colab": {
          "base_uri": "https://localhost:8080/"
        },
        "id": "iIBen_X8kPDl",
        "outputId": "aecada99-0ecd-4aca-a36f-19748728bb1a"
      },
      "source": [
        "regressor.fit(X_train, target, epochs = 50, validation_split=0.2, batch_size=32, verbose=1)"
      ],
      "execution_count": 95,
      "outputs": [
        {
          "output_type": "stream",
          "text": [
            "Epoch 1/50\n",
            "110/110 [==============================] - 18s 111ms/step - loss: 0.0569 - val_loss: 0.0013\n",
            "Epoch 2/50\n",
            "110/110 [==============================] - 11s 101ms/step - loss: 0.0046 - val_loss: 0.0044\n",
            "Epoch 3/50\n",
            "110/110 [==============================] - 11s 100ms/step - loss: 0.0033 - val_loss: 0.0049\n",
            "Epoch 4/50\n",
            "110/110 [==============================] - 11s 98ms/step - loss: 0.0034 - val_loss: 0.0015\n",
            "Epoch 5/50\n",
            "110/110 [==============================] - 11s 100ms/step - loss: 0.0029 - val_loss: 0.0011\n",
            "Epoch 6/50\n",
            "110/110 [==============================] - 11s 104ms/step - loss: 0.0026 - val_loss: 0.0016\n",
            "Epoch 7/50\n",
            "110/110 [==============================] - 11s 101ms/step - loss: 0.0023 - val_loss: 0.0011\n",
            "Epoch 8/50\n",
            "110/110 [==============================] - 11s 102ms/step - loss: 0.0026 - val_loss: 0.0042\n",
            "Epoch 9/50\n",
            "110/110 [==============================] - 11s 99ms/step - loss: 0.0021 - val_loss: 0.0031\n",
            "Epoch 10/50\n",
            "110/110 [==============================] - 11s 101ms/step - loss: 0.0022 - val_loss: 0.0012\n",
            "Epoch 11/50\n",
            "110/110 [==============================] - 11s 101ms/step - loss: 0.0021 - val_loss: 0.0012\n",
            "Epoch 12/50\n",
            "110/110 [==============================] - 11s 98ms/step - loss: 0.0021 - val_loss: 0.0021\n",
            "Epoch 13/50\n",
            "110/110 [==============================] - 11s 100ms/step - loss: 0.0021 - val_loss: 0.0013\n",
            "Epoch 14/50\n",
            "110/110 [==============================] - 11s 101ms/step - loss: 0.0021 - val_loss: 0.0022\n",
            "Epoch 15/50\n",
            "110/110 [==============================] - 11s 97ms/step - loss: 0.0019 - val_loss: 0.0020\n",
            "Epoch 16/50\n",
            "110/110 [==============================] - 11s 98ms/step - loss: 0.0027 - val_loss: 0.0057\n",
            "Epoch 17/50\n",
            "110/110 [==============================] - 11s 101ms/step - loss: 0.0019 - val_loss: 7.3053e-04\n",
            "Epoch 18/50\n",
            "110/110 [==============================] - 11s 104ms/step - loss: 0.0019 - val_loss: 0.0055\n",
            "Epoch 19/50\n",
            "110/110 [==============================] - 11s 103ms/step - loss: 0.0018 - val_loss: 0.0012\n",
            "Epoch 20/50\n",
            "110/110 [==============================] - 11s 101ms/step - loss: 0.0019 - val_loss: 0.0044\n",
            "Epoch 21/50\n",
            "110/110 [==============================] - 11s 101ms/step - loss: 0.0018 - val_loss: 0.0040\n",
            "Epoch 22/50\n",
            "110/110 [==============================] - 11s 104ms/step - loss: 0.0017 - val_loss: 0.0014\n",
            "Epoch 23/50\n",
            "110/110 [==============================] - 11s 102ms/step - loss: 0.0017 - val_loss: 0.0043\n",
            "Epoch 24/50\n",
            "110/110 [==============================] - 11s 102ms/step - loss: 0.0019 - val_loss: 0.0010\n",
            "Epoch 25/50\n",
            "110/110 [==============================] - 11s 104ms/step - loss: 0.0019 - val_loss: 6.6883e-04\n",
            "Epoch 26/50\n",
            "110/110 [==============================] - 11s 101ms/step - loss: 0.0016 - val_loss: 0.0062\n",
            "Epoch 27/50\n",
            "110/110 [==============================] - 11s 101ms/step - loss: 0.0020 - val_loss: 0.0056\n",
            "Epoch 28/50\n",
            "110/110 [==============================] - 11s 104ms/step - loss: 0.0018 - val_loss: 0.0030\n",
            "Epoch 29/50\n",
            "110/110 [==============================] - 11s 102ms/step - loss: 0.0019 - val_loss: 0.0011\n",
            "Epoch 30/50\n",
            "110/110 [==============================] - 11s 104ms/step - loss: 0.0018 - val_loss: 6.4774e-04\n",
            "Epoch 31/50\n",
            "110/110 [==============================] - 11s 103ms/step - loss: 0.0017 - val_loss: 0.0059\n",
            "Epoch 32/50\n",
            "110/110 [==============================] - 11s 101ms/step - loss: 0.0017 - val_loss: 0.0055\n",
            "Epoch 33/50\n",
            "110/110 [==============================] - 12s 106ms/step - loss: 0.0018 - val_loss: 0.0022\n",
            "Epoch 34/50\n",
            "110/110 [==============================] - 11s 103ms/step - loss: 0.0018 - val_loss: 0.0039\n",
            "Epoch 35/50\n",
            "110/110 [==============================] - 11s 101ms/step - loss: 0.0016 - val_loss: 0.0113\n",
            "Epoch 36/50\n",
            "110/110 [==============================] - 11s 100ms/step - loss: 0.0016 - val_loss: 0.0033\n",
            "Epoch 37/50\n",
            "110/110 [==============================] - 11s 100ms/step - loss: 0.0017 - val_loss: 9.9537e-04\n",
            "Epoch 38/50\n",
            "110/110 [==============================] - 11s 101ms/step - loss: 0.0015 - val_loss: 0.0039\n",
            "Epoch 39/50\n",
            "110/110 [==============================] - 11s 102ms/step - loss: 0.0019 - val_loss: 9.2754e-04\n",
            "Epoch 40/50\n",
            "110/110 [==============================] - 11s 103ms/step - loss: 0.0015 - val_loss: 5.7319e-04\n",
            "Epoch 41/50\n",
            "110/110 [==============================] - 11s 102ms/step - loss: 0.0016 - val_loss: 0.0059\n",
            "Epoch 42/50\n",
            "110/110 [==============================] - 11s 101ms/step - loss: 0.0015 - val_loss: 7.7866e-04\n",
            "Epoch 43/50\n",
            "110/110 [==============================] - 11s 101ms/step - loss: 0.0014 - val_loss: 0.0021\n",
            "Epoch 44/50\n",
            "110/110 [==============================] - 11s 99ms/step - loss: 0.0014 - val_loss: 0.0048\n",
            "Epoch 45/50\n",
            "110/110 [==============================] - 11s 100ms/step - loss: 0.0015 - val_loss: 9.0638e-04\n",
            "Epoch 46/50\n",
            "110/110 [==============================] - 11s 101ms/step - loss: 0.0016 - val_loss: 0.0119\n",
            "Epoch 47/50\n",
            "110/110 [==============================] - 10s 95ms/step - loss: 0.0016 - val_loss: 7.8317e-04\n",
            "Epoch 48/50\n",
            "110/110 [==============================] - 11s 99ms/step - loss: 0.0014 - val_loss: 4.4172e-04\n",
            "Epoch 49/50\n",
            "110/110 [==============================] - 11s 97ms/step - loss: 0.0014 - val_loss: 7.4279e-04\n",
            "Epoch 50/50\n",
            "110/110 [==============================] - 11s 99ms/step - loss: 0.0016 - val_loss: 0.0028\n"
          ],
          "name": "stdout"
        },
        {
          "output_type": "execute_result",
          "data": {
            "text/plain": [
              "<tensorflow.python.keras.callbacks.History at 0x7f7a9319ba90>"
            ]
          },
          "metadata": {
            "tags": []
          },
          "execution_count": 95
        }
      ]
    },
    {
      "cell_type": "markdown",
      "metadata": {
        "id": "Iu3mc91jc8-w"
      },
      "source": [
        "**TO AVOID TRAIN TEST DATA CONTAMINATION, WE TAKE TEST DATA SEPERATELY AND DO PREPROCCESSING ON IT**"
      ]
    },
    {
      "cell_type": "markdown",
      "metadata": {
        "id": "y2_nHif60hBn"
      },
      "source": [
        "Predict stock prices for the year 2019"
      ]
    },
    {
      "cell_type": "code",
      "metadata": {
        "colab": {
          "base_uri": "https://localhost:8080/"
        },
        "id": "GyjbMl_CdQ_V",
        "outputId": "8a8ed316-675b-4b7e-a48c-342f02ebe61f"
      },
      "source": [
        "\r\n",
        "test_news = news['2019-01-01':'2020-01-01']\r\n",
        "test_news.index = np.arange(0, len(test_news))\r\n",
        "\r\n",
        "\r\n",
        "\r\n",
        "test_stocks = histstocks['2019-01-01':'2020-01-01']\r\n",
        "test_stocks.index = np.arange(0, len(test_stocks))\r\n",
        "print(test_news.head())\r\n",
        "print(test_stocks.head())"
      ],
      "execution_count": 96,
      "outputs": [
        {
          "output_type": "stream",
          "text": [
            "        Date                                           HeadLine\n",
            "0 2019-01-01  guilty making fashion faux pas happy new year ...\n",
            "1 2019-01-02  new animal birth centre sterilize 30 dogs day ...\n",
            "2 2019-01-03  music director harris jayaraj scored highest m...\n",
            "3 2019-01-04  gate 2019 admit card released gate iitm ac che...\n",
            "4 2019-01-05  mysuru gets art space named artist baadal nanj...\n",
            "        Date          Open  ...         Close     Adj Close\n",
            "0 2019-01-02  36198.128906  ...  35891.519531  35891.519531\n",
            "1 2019-01-03  35934.500000  ...  35513.710938  35513.710938\n",
            "2 2019-01-04  35590.789063  ...  35695.101563  35695.101563\n",
            "3 2019-01-07  35971.179688  ...  35850.160156  35850.160156\n",
            "4 2019-01-08  35964.621094  ...  35980.929688  35980.929688\n",
            "\n",
            "[5 rows x 6 columns]\n"
          ],
          "name": "stdout"
        }
      ]
    },
    {
      "cell_type": "markdown",
      "metadata": {
        "id": "Ydj_5z5J0nV-"
      },
      "source": [
        "Merging both news and stocks as done for training data"
      ]
    },
    {
      "cell_type": "code",
      "metadata": {
        "colab": {
          "base_uri": "https://localhost:8080/",
          "height": 444
        },
        "id": "htyA-8xAN5i_",
        "outputId": "ed82c998-1556-40e9-b226-1c1fc82ec797"
      },
      "source": [
        "Merger=pd.merge(test_stocks, test_news, how='right', on='Date', indicator= True )\r\n",
        "for i in range(len(Merger['HeadLine'])-1):\r\n",
        "  if Merger['_merge'][i]=='right_only':\r\n",
        "    Merger['HeadLine'][i+1]=(Merger['HeadLine'][i]) +\" \" + (Merger['HeadLine'][i+1])\r\n",
        "Merger.dropna(how='any',inplace= True)\r\n",
        "print(Merger.groupby('_merge').nunique())\r\n",
        "Merger.drop('_merge', inplace=True, axis=1)\r\n",
        "Merger.head(10)\r\n"
      ],
      "execution_count": 97,
      "outputs": [
        {
          "output_type": "stream",
          "text": [
            "            Date  Open  High  Low  Close  Adj Close  HeadLine\n",
            "_merge                                                       \n",
            "left_only      0     0     0    0      0          0         0\n",
            "right_only     0     0     0    0      0          0         0\n",
            "both         241   241   241  241    241        241       241\n"
          ],
          "name": "stdout"
        },
        {
          "output_type": "execute_result",
          "data": {
            "text/html": [
              "<div>\n",
              "<style scoped>\n",
              "    .dataframe tbody tr th:only-of-type {\n",
              "        vertical-align: middle;\n",
              "    }\n",
              "\n",
              "    .dataframe tbody tr th {\n",
              "        vertical-align: top;\n",
              "    }\n",
              "\n",
              "    .dataframe thead th {\n",
              "        text-align: right;\n",
              "    }\n",
              "</style>\n",
              "<table border=\"1\" class=\"dataframe\">\n",
              "  <thead>\n",
              "    <tr style=\"text-align: right;\">\n",
              "      <th></th>\n",
              "      <th>Date</th>\n",
              "      <th>Open</th>\n",
              "      <th>High</th>\n",
              "      <th>Low</th>\n",
              "      <th>Close</th>\n",
              "      <th>Adj Close</th>\n",
              "      <th>HeadLine</th>\n",
              "    </tr>\n",
              "  </thead>\n",
              "  <tbody>\n",
              "    <tr>\n",
              "      <th>1</th>\n",
              "      <td>2019-01-02</td>\n",
              "      <td>36198.128906</td>\n",
              "      <td>36236.699219</td>\n",
              "      <td>35734.011719</td>\n",
              "      <td>35891.519531</td>\n",
              "      <td>35891.519531</td>\n",
              "      <td>guilty making fashion faux pas happy new year ...</td>\n",
              "    </tr>\n",
              "    <tr>\n",
              "      <th>2</th>\n",
              "      <td>2019-01-03</td>\n",
              "      <td>35934.500000</td>\n",
              "      <td>35999.660156</td>\n",
              "      <td>35475.570313</td>\n",
              "      <td>35513.710938</td>\n",
              "      <td>35513.710938</td>\n",
              "      <td>music director harris jayaraj scored highest m...</td>\n",
              "    </tr>\n",
              "    <tr>\n",
              "      <th>3</th>\n",
              "      <td>2019-01-04</td>\n",
              "      <td>35590.789063</td>\n",
              "      <td>35744.199219</td>\n",
              "      <td>35382.078125</td>\n",
              "      <td>35695.101563</td>\n",
              "      <td>35695.101563</td>\n",
              "      <td>gate 2019 admit card released gate iitm ac che...</td>\n",
              "    </tr>\n",
              "    <tr>\n",
              "      <th>6</th>\n",
              "      <td>2019-01-07</td>\n",
              "      <td>35971.179688</td>\n",
              "      <td>36076.949219</td>\n",
              "      <td>35809.230469</td>\n",
              "      <td>35850.160156</td>\n",
              "      <td>35850.160156</td>\n",
              "      <td>mysuru gets art space named artist baadal nanj...</td>\n",
              "    </tr>\n",
              "    <tr>\n",
              "      <th>7</th>\n",
              "      <td>2019-01-08</td>\n",
              "      <td>35964.621094</td>\n",
              "      <td>36037.351563</td>\n",
              "      <td>35753.949219</td>\n",
              "      <td>35980.929688</td>\n",
              "      <td>35980.929688</td>\n",
              "      <td>youth aware politics politicians college clubs...</td>\n",
              "    </tr>\n",
              "    <tr>\n",
              "      <th>8</th>\n",
              "      <td>2019-01-09</td>\n",
              "      <td>36181.371094</td>\n",
              "      <td>36250.539063</td>\n",
              "      <td>35863.289063</td>\n",
              "      <td>36212.910156</td>\n",
              "      <td>36212.910156</td>\n",
              "      <td>flyer wheelchair held gold worth rs 36 lakh de...</td>\n",
              "    </tr>\n",
              "    <tr>\n",
              "      <th>9</th>\n",
              "      <td>2019-01-10</td>\n",
              "      <td>36258.000000</td>\n",
              "      <td>36269.308594</td>\n",
              "      <td>36070.761719</td>\n",
              "      <td>36106.500000</td>\n",
              "      <td>36106.500000</td>\n",
              "      <td>nilekani head rbi panel e payments dubbing boo...</td>\n",
              "    </tr>\n",
              "    <tr>\n",
              "      <th>10</th>\n",
              "      <td>2019-01-11</td>\n",
              "      <td>36191.871094</td>\n",
              "      <td>36214.261719</td>\n",
              "      <td>35840.601563</td>\n",
              "      <td>36009.839844</td>\n",
              "      <td>36009.839844</td>\n",
              "      <td>rs 10 lakh snatched gunpoint finance company e...</td>\n",
              "    </tr>\n",
              "    <tr>\n",
              "      <th>13</th>\n",
              "      <td>2019-01-14</td>\n",
              "      <td>36113.269531</td>\n",
              "      <td>36124.941406</td>\n",
              "      <td>35691.750000</td>\n",
              "      <td>35853.558594</td>\n",
              "      <td>35853.558594</td>\n",
              "      <td>railway regional website links check rrb group...</td>\n",
              "    </tr>\n",
              "    <tr>\n",
              "      <th>14</th>\n",
              "      <td>2019-01-15</td>\n",
              "      <td>35950.078125</td>\n",
              "      <td>36349.308594</td>\n",
              "      <td>35950.078125</td>\n",
              "      <td>36318.328125</td>\n",
              "      <td>36318.328125</td>\n",
              "      <td>happy pongal 2019 images cards greetings wishe...</td>\n",
              "    </tr>\n",
              "  </tbody>\n",
              "</table>\n",
              "</div>"
            ],
            "text/plain": [
              "         Date  ...                                           HeadLine\n",
              "1  2019-01-02  ...  guilty making fashion faux pas happy new year ...\n",
              "2  2019-01-03  ...  music director harris jayaraj scored highest m...\n",
              "3  2019-01-04  ...  gate 2019 admit card released gate iitm ac che...\n",
              "6  2019-01-07  ...  mysuru gets art space named artist baadal nanj...\n",
              "7  2019-01-08  ...  youth aware politics politicians college clubs...\n",
              "8  2019-01-09  ...  flyer wheelchair held gold worth rs 36 lakh de...\n",
              "9  2019-01-10  ...  nilekani head rbi panel e payments dubbing boo...\n",
              "10 2019-01-11  ...  rs 10 lakh snatched gunpoint finance company e...\n",
              "13 2019-01-14  ...  railway regional website links check rrb group...\n",
              "14 2019-01-15  ...  happy pongal 2019 images cards greetings wishe...\n",
              "\n",
              "[10 rows x 7 columns]"
            ]
          },
          "metadata": {
            "tags": []
          },
          "execution_count": 97
        }
      ]
    },
    {
      "cell_type": "markdown",
      "metadata": {
        "id": "Z4AMAz4h0u0T"
      },
      "source": [
        "Using a pandas pipeline for sentiment analysis for cleaner code and ease of deploying"
      ]
    },
    {
      "cell_type": "code",
      "metadata": {
        "colab": {
          "base_uri": "https://localhost:8080/"
        },
        "id": "gkg74U2aJdwB",
        "outputId": "891db659-30e4-4a6c-c6ab-d3e0eef6a117"
      },
      "source": [
        "\r\n",
        "!pip install pdpipe\r\n",
        "import pdpipe as pdp"
      ],
      "execution_count": 98,
      "outputs": [
        {
          "output_type": "stream",
          "text": [
            "Requirement already satisfied: pdpipe in /usr/local/lib/python3.6/dist-packages (0.0.53)\n",
            "Requirement already satisfied: pandas>=0.18.0 in /usr/local/lib/python3.6/dist-packages (from pdpipe) (1.1.5)\n",
            "Requirement already satisfied: sortedcontainers in /usr/local/lib/python3.6/dist-packages (from pdpipe) (2.3.0)\n",
            "Requirement already satisfied: skutil>=0.0.15 in /usr/local/lib/python3.6/dist-packages (from pdpipe) (0.0.16)\n",
            "Requirement already satisfied: tqdm in /usr/local/lib/python3.6/dist-packages (from pdpipe) (4.41.1)\n",
            "Requirement already satisfied: strct in /usr/local/lib/python3.6/dist-packages (from pdpipe) (0.0.32)\n",
            "Requirement already satisfied: pytz>=2017.2 in /usr/local/lib/python3.6/dist-packages (from pandas>=0.18.0->pdpipe) (2018.9)\n",
            "Requirement already satisfied: python-dateutil>=2.7.3 in /usr/local/lib/python3.6/dist-packages (from pandas>=0.18.0->pdpipe) (2.8.1)\n",
            "Requirement already satisfied: numpy>=1.15.4 in /usr/local/lib/python3.6/dist-packages (from pandas>=0.18.0->pdpipe) (1.19.5)\n",
            "Requirement already satisfied: decore in /usr/local/lib/python3.6/dist-packages (from skutil>=0.0.15->pdpipe) (0.0.1)\n",
            "Requirement already satisfied: six>=1.5 in /usr/local/lib/python3.6/dist-packages (from python-dateutil>=2.7.3->pandas>=0.18.0->pdpipe) (1.15.0)\n"
          ],
          "name": "stdout"
        }
      ]
    },
    {
      "cell_type": "markdown",
      "metadata": {
        "id": "TVwgmE9QN52O"
      },
      "source": [
        "Bundling Pipeline for sentiment analysis"
      ]
    },
    {
      "cell_type": "code",
      "metadata": {
        "id": "F3gVuqvtSyeL"
      },
      "source": [
        "pipeline= pdp.ApplyByCols('HeadLine', getPolarity, result_columns= 'Polarity', drop=False)\r\n",
        "pipeline+= pdp.ApplyByCols('HeadLine', lambda x: sia.polarity_scores(x)['compound'], result_columns='Compound', drop=False)"
      ],
      "execution_count": 99,
      "outputs": []
    },
    {
      "cell_type": "code",
      "metadata": {
        "colab": {
          "base_uri": "https://localhost:8080/",
          "height": 204
        },
        "id": "ChFlLlTSVn-O",
        "outputId": "41c77cff-7d76-431d-bfb0-369470c47a07"
      },
      "source": [
        "test_data= pipeline(Merger)\r\n",
        "test_data.head()"
      ],
      "execution_count": 100,
      "outputs": [
        {
          "output_type": "execute_result",
          "data": {
            "text/html": [
              "<div>\n",
              "<style scoped>\n",
              "    .dataframe tbody tr th:only-of-type {\n",
              "        vertical-align: middle;\n",
              "    }\n",
              "\n",
              "    .dataframe tbody tr th {\n",
              "        vertical-align: top;\n",
              "    }\n",
              "\n",
              "    .dataframe thead th {\n",
              "        text-align: right;\n",
              "    }\n",
              "</style>\n",
              "<table border=\"1\" class=\"dataframe\">\n",
              "  <thead>\n",
              "    <tr style=\"text-align: right;\">\n",
              "      <th></th>\n",
              "      <th>Date</th>\n",
              "      <th>Open</th>\n",
              "      <th>High</th>\n",
              "      <th>Low</th>\n",
              "      <th>Close</th>\n",
              "      <th>Adj Close</th>\n",
              "      <th>HeadLine</th>\n",
              "      <th>Compound</th>\n",
              "      <th>Polarity</th>\n",
              "    </tr>\n",
              "  </thead>\n",
              "  <tbody>\n",
              "    <tr>\n",
              "      <th>1</th>\n",
              "      <td>2019-01-02</td>\n",
              "      <td>36198.128906</td>\n",
              "      <td>36236.699219</td>\n",
              "      <td>35734.011719</td>\n",
              "      <td>35891.519531</td>\n",
              "      <td>35891.519531</td>\n",
              "      <td>guilty making fashion faux pas happy new year ...</td>\n",
              "      <td>-0.9999</td>\n",
              "      <td>0.051726</td>\n",
              "    </tr>\n",
              "    <tr>\n",
              "      <th>2</th>\n",
              "      <td>2019-01-03</td>\n",
              "      <td>35934.500000</td>\n",
              "      <td>35999.660156</td>\n",
              "      <td>35475.570313</td>\n",
              "      <td>35513.710938</td>\n",
              "      <td>35513.710938</td>\n",
              "      <td>music director harris jayaraj scored highest m...</td>\n",
              "      <td>-0.9998</td>\n",
              "      <td>0.019917</td>\n",
              "    </tr>\n",
              "    <tr>\n",
              "      <th>3</th>\n",
              "      <td>2019-01-04</td>\n",
              "      <td>35590.789063</td>\n",
              "      <td>35744.199219</td>\n",
              "      <td>35382.078125</td>\n",
              "      <td>35695.101563</td>\n",
              "      <td>35695.101563</td>\n",
              "      <td>gate 2019 admit card released gate iitm ac che...</td>\n",
              "      <td>-0.9999</td>\n",
              "      <td>0.056757</td>\n",
              "    </tr>\n",
              "    <tr>\n",
              "      <th>6</th>\n",
              "      <td>2019-01-07</td>\n",
              "      <td>35971.179688</td>\n",
              "      <td>36076.949219</td>\n",
              "      <td>35809.230469</td>\n",
              "      <td>35850.160156</td>\n",
              "      <td>35850.160156</td>\n",
              "      <td>mysuru gets art space named artist baadal nanj...</td>\n",
              "      <td>-1.0000</td>\n",
              "      <td>0.026434</td>\n",
              "    </tr>\n",
              "    <tr>\n",
              "      <th>7</th>\n",
              "      <td>2019-01-08</td>\n",
              "      <td>35964.621094</td>\n",
              "      <td>36037.351563</td>\n",
              "      <td>35753.949219</td>\n",
              "      <td>35980.929688</td>\n",
              "      <td>35980.929688</td>\n",
              "      <td>youth aware politics politicians college clubs...</td>\n",
              "      <td>-0.9997</td>\n",
              "      <td>0.027124</td>\n",
              "    </tr>\n",
              "  </tbody>\n",
              "</table>\n",
              "</div>"
            ],
            "text/plain": [
              "        Date          Open  ...  Compound  Polarity\n",
              "1 2019-01-02  36198.128906  ...   -0.9999  0.051726\n",
              "2 2019-01-03  35934.500000  ...   -0.9998  0.019917\n",
              "3 2019-01-04  35590.789063  ...   -0.9999  0.056757\n",
              "6 2019-01-07  35971.179688  ...   -1.0000  0.026434\n",
              "7 2019-01-08  35964.621094  ...   -0.9997  0.027124\n",
              "\n",
              "[5 rows x 9 columns]"
            ]
          },
          "metadata": {
            "tags": []
          },
          "execution_count": 100
        }
      ]
    },
    {
      "cell_type": "markdown",
      "metadata": {
        "id": "sY-mwkXMX_eC"
      },
      "source": [
        "Data Preprocessing including\r\n",
        "1. Converting to supervised learning data\r\n",
        "2. Create features like rolling average and standard devaition for 7 days \r\n",
        "3. Removing any missing data\r\n",
        "\r\n",
        "\r\n",
        "\r\n"
      ]
    },
    {
      "cell_type": "code",
      "metadata": {
        "id": "kh4PpF2lXJ0c",
        "colab": {
          "base_uri": "https://localhost:8080/",
          "height": 734
        },
        "outputId": "888c97ec-ef1a-4e0e-cec9-325cbab14a1b"
      },
      "source": [
        "test_data['close_price_shifted'] = test_data['Close'].shift(-1) #this will be out target variable\r\n",
        "test_data['compound_price_shifted'] = test_data['Compound'].shift(-1)\r\n",
        "test_data['polarity_price_shifted'] = test_data['Polarity'].shift(-1)\r\n",
        "ma_day = [7, 14, 21]\r\n",
        "\r\n",
        "for ma in ma_day:\r\n",
        "  column_name = f\"MA for {ma} days\"\r\n",
        "  test_data[column_name] = test_data['Adj Close'].rolling(ma).mean()\r\n",
        "\r\n",
        "test_data[\"std_dev\"]=test_data['Adj Close'].rolling(7).std()\r\n",
        "test_data.dropna(axis=0, how='any', inplace=True)\r\n",
        "test_data.head()\r\n"
      ],
      "execution_count": 101,
      "outputs": [
        {
          "output_type": "execute_result",
          "data": {
            "text/html": [
              "<div>\n",
              "<style scoped>\n",
              "    .dataframe tbody tr th:only-of-type {\n",
              "        vertical-align: middle;\n",
              "    }\n",
              "\n",
              "    .dataframe tbody tr th {\n",
              "        vertical-align: top;\n",
              "    }\n",
              "\n",
              "    .dataframe thead th {\n",
              "        text-align: right;\n",
              "    }\n",
              "</style>\n",
              "<table border=\"1\" class=\"dataframe\">\n",
              "  <thead>\n",
              "    <tr style=\"text-align: right;\">\n",
              "      <th></th>\n",
              "      <th>Date</th>\n",
              "      <th>Open</th>\n",
              "      <th>High</th>\n",
              "      <th>Low</th>\n",
              "      <th>Close</th>\n",
              "      <th>Adj Close</th>\n",
              "      <th>HeadLine</th>\n",
              "      <th>Compound</th>\n",
              "      <th>Polarity</th>\n",
              "      <th>close_price_shifted</th>\n",
              "      <th>compound_price_shifted</th>\n",
              "      <th>polarity_price_shifted</th>\n",
              "      <th>MA for 7 days</th>\n",
              "      <th>MA for 14 days</th>\n",
              "      <th>MA for 21 days</th>\n",
              "      <th>std_dev</th>\n",
              "    </tr>\n",
              "  </thead>\n",
              "  <tbody>\n",
              "    <tr>\n",
              "      <th>29</th>\n",
              "      <td>2019-01-30</td>\n",
              "      <td>35819.671875</td>\n",
              "      <td>35850.410156</td>\n",
              "      <td>35490.968750</td>\n",
              "      <td>35591.250000</td>\n",
              "      <td>35591.250000</td>\n",
              "      <td>hc petrol pumps petition pil opening new petro...</td>\n",
              "      <td>-0.9998</td>\n",
              "      <td>0.004141</td>\n",
              "      <td>36256.691406</td>\n",
              "      <td>-0.9996</td>\n",
              "      <td>0.023964</td>\n",
              "      <td>35944.885603</td>\n",
              "      <td>36104.061663</td>\n",
              "      <td>36033.699777</td>\n",
              "      <td>336.133079</td>\n",
              "    </tr>\n",
              "    <tr>\n",
              "      <th>30</th>\n",
              "      <td>2019-01-31</td>\n",
              "      <td>35805.511719</td>\n",
              "      <td>36278.128906</td>\n",
              "      <td>35740.070313</td>\n",
              "      <td>36256.691406</td>\n",
              "      <td>36256.691406</td>\n",
              "      <td>navas moidhu performs arts medicine show navas...</td>\n",
              "      <td>-0.9996</td>\n",
              "      <td>0.023964</td>\n",
              "      <td>36469.429688</td>\n",
              "      <td>-0.9999</td>\n",
              "      <td>0.048991</td>\n",
              "      <td>35918.035714</td>\n",
              "      <td>36121.693918</td>\n",
              "      <td>36051.088914</td>\n",
              "      <td>294.486571</td>\n",
              "    </tr>\n",
              "    <tr>\n",
              "      <th>31</th>\n",
              "      <td>2019-02-01</td>\n",
              "      <td>36311.738281</td>\n",
              "      <td>36778.140625</td>\n",
              "      <td>36221.320313</td>\n",
              "      <td>36469.429688</td>\n",
              "      <td>36469.429688</td>\n",
              "      <td>800 primary middle schools closed 3rd day jact...</td>\n",
              "      <td>-0.9999</td>\n",
              "      <td>0.048991</td>\n",
              "      <td>36582.738281</td>\n",
              "      <td>-1.0000</td>\n",
              "      <td>0.029889</td>\n",
              "      <td>35969.601563</td>\n",
              "      <td>36165.684710</td>\n",
              "      <td>36096.599331</td>\n",
              "      <td>358.118080</td>\n",
              "    </tr>\n",
              "    <tr>\n",
              "      <th>34</th>\n",
              "      <td>2019-02-04</td>\n",
              "      <td>36456.218750</td>\n",
              "      <td>36622.769531</td>\n",
              "      <td>36225.480469</td>\n",
              "      <td>36582.738281</td>\n",
              "      <td>36582.738281</td>\n",
              "      <td>composer qaran mehta singer ash king create pe...</td>\n",
              "      <td>-1.0000</td>\n",
              "      <td>0.029889</td>\n",
              "      <td>36616.808594</td>\n",
              "      <td>-0.9999</td>\n",
              "      <td>0.042808</td>\n",
              "      <td>36024.978237</td>\n",
              "      <td>36184.571150</td>\n",
              "      <td>36138.867746</td>\n",
              "      <td>422.908917</td>\n",
              "    </tr>\n",
              "    <tr>\n",
              "      <th>35</th>\n",
              "      <td>2019-02-05</td>\n",
              "      <td>36573.039063</td>\n",
              "      <td>36727.828125</td>\n",
              "      <td>36495.828125</td>\n",
              "      <td>36616.808594</td>\n",
              "      <td>36616.808594</td>\n",
              "      <td>imc workers sari feb 3 civic body relaxes blue...</td>\n",
              "      <td>-0.9999</td>\n",
              "      <td>0.042808</td>\n",
              "      <td>36975.230469</td>\n",
              "      <td>-0.9998</td>\n",
              "      <td>0.034933</td>\n",
              "      <td>36109.445313</td>\n",
              "      <td>36205.679688</td>\n",
              "      <td>36175.374814</td>\n",
              "      <td>478.440480</td>\n",
              "    </tr>\n",
              "  </tbody>\n",
              "</table>\n",
              "</div>"
            ],
            "text/plain": [
              "         Date          Open  ...  MA for 21 days     std_dev\n",
              "29 2019-01-30  35819.671875  ...    36033.699777  336.133079\n",
              "30 2019-01-31  35805.511719  ...    36051.088914  294.486571\n",
              "31 2019-02-01  36311.738281  ...    36096.599331  358.118080\n",
              "34 2019-02-04  36456.218750  ...    36138.867746  422.908917\n",
              "35 2019-02-05  36573.039063  ...    36175.374814  478.440480\n",
              "\n",
              "[5 rows x 16 columns]"
            ]
          },
          "metadata": {
            "tags": []
          },
          "execution_count": 101
        }
      ]
    },
    {
      "cell_type": "markdown",
      "metadata": {
        "id": "U5mz1dil1UDt"
      },
      "source": [
        "Separating features and target variables to form a supervised learning problem"
      ]
    },
    {
      "cell_type": "code",
      "metadata": {
        "id": "vOqQ7yMtsejW"
      },
      "source": [
        "ytest= test_data['close_price_shifted']\r\n",
        "cols = ['Close', 'Compound', 'Polarity','Open', 'High', 'Low', 'MA for 7 days', 'MA for 14 days','MA for 21 days', 'std_dev', 'compound_price_shifted', 'polarity_price_shifted']\r\n",
        "Xtest= test_data[cols]\r\n",
        "\r\n"
      ],
      "execution_count": 102,
      "outputs": []
    },
    {
      "cell_type": "markdown",
      "metadata": {
        "id": "WlAwCMEr1kj9"
      },
      "source": [
        "Feature Scaling and reshaping as per requirement of LSTM"
      ]
    },
    {
      "cell_type": "code",
      "metadata": {
        "id": "_vKJiyFcs9W6"
      },
      "source": [
        "from sklearn.preprocessing import MinMaxScaler\r\n",
        "test_scX = MinMaxScaler(feature_range = (-1, 1))\r\n",
        "test_scY = MinMaxScaler(feature_range = (-1, 1))\r\n",
        "ytest = np.array(ytest).reshape((len(ytest) ,1))\r\n",
        "\r\n",
        "Xtest= test_scX.fit_transform(Xtest)\r\n",
        "y= test_scY.fit_transform(ytest)"
      ],
      "execution_count": 103,
      "outputs": []
    },
    {
      "cell_type": "code",
      "metadata": {
        "colab": {
          "base_uri": "https://localhost:8080/"
        },
        "id": "9C_BQxE2wQLG",
        "outputId": "77ab774c-729a-46b4-b993-17dc479ffdbf"
      },
      "source": [
        "X_test = np.reshape(Xtest, (Xtest.shape[0], Xtest.shape[1], 1))\r\n",
        "X_test.shape"
      ],
      "execution_count": 104,
      "outputs": [
        {
          "output_type": "execute_result",
          "data": {
            "text/plain": [
              "(220, 12, 1)"
            ]
          },
          "metadata": {
            "tags": []
          },
          "execution_count": 104
        }
      ]
    },
    {
      "cell_type": "markdown",
      "metadata": {
        "id": "QXJt-b551sgY"
      },
      "source": [
        "**PREDICTING STOCK PRICE FOR 2019**"
      ]
    },
    {
      "cell_type": "code",
      "metadata": {
        "colab": {
          "base_uri": "https://localhost:8080/"
        },
        "id": "WEgH3dPLwtRo",
        "outputId": "f35a166a-8602-409d-9896-a75e4d28c363"
      },
      "source": [
        "predictions = regressor.predict(X_test) \r\n",
        "predictions = test_scY.inverse_transform(predictions)\r\n",
        "\r\n",
        "predictions[0:5]"
      ],
      "execution_count": 105,
      "outputs": [
        {
          "output_type": "execute_result",
          "data": {
            "text/plain": [
              "array([[35630.824],\n",
              "       [35773.797],\n",
              "       [36048.336],\n",
              "       [36054.445],\n",
              "       [36176.77 ]], dtype=float32)"
            ]
          },
          "metadata": {
            "tags": []
          },
          "execution_count": 105
        }
      ]
    },
    {
      "cell_type": "markdown",
      "metadata": {
        "id": "ZQaFfmV513s7"
      },
      "source": [
        "**PREDICTION ERROR METRICS**"
      ]
    },
    {
      "cell_type": "code",
      "metadata": {
        "colab": {
          "base_uri": "https://localhost:8080/"
        },
        "id": "kS7_yWqP5cG5",
        "outputId": "ac5a32eb-8ba2-407b-925d-5dfaf759f5fb"
      },
      "source": [
        "regressor.evaluate(X_test, y, batch_size = 1)"
      ],
      "execution_count": 106,
      "outputs": [
        {
          "output_type": "stream",
          "text": [
            "220/220 [==============================] - 2s 5ms/step - loss: 0.0240\n"
          ],
          "name": "stdout"
        },
        {
          "output_type": "execute_result",
          "data": {
            "text/plain": [
              "0.024022698402404785"
            ]
          },
          "metadata": {
            "tags": []
          },
          "execution_count": 106
        }
      ]
    },
    {
      "cell_type": "markdown",
      "metadata": {
        "id": "rp1WE-Xo28we"
      },
      "source": [
        "Using mean squared error from sklearn.metrics"
      ]
    },
    {
      "cell_type": "code",
      "metadata": {
        "colab": {
          "base_uri": "https://localhost:8080/"
        },
        "id": "aRfOFPoJ5pL8",
        "outputId": "1a4257be-2c0b-4aa6-af4e-612a0cc5b2e9"
      },
      "source": [
        "rmse = mean_squared_error(ytest, predictions)\r\n",
        "print('Root Mean Square Error =', round(np.sqrt(rmse),4))"
      ],
      "execution_count": 109,
      "outputs": [
        {
          "output_type": "stream",
          "text": [
            "Root Mean Square Error = 490.4686\n"
          ],
          "name": "stdout"
        }
      ]
    },
    {
      "cell_type": "markdown",
      "metadata": {
        "id": "A8FA_rRU3H2e"
      },
      "source": [
        "**VISUALISING THE RESULTS**"
      ]
    },
    {
      "cell_type": "code",
      "metadata": {
        "colab": {
          "base_uri": "https://localhost:8080/",
          "height": 736
        },
        "id": "INMQ-Ej154ug",
        "outputId": "2044caf3-5568-4fbb-8b40-86bd4266ff56"
      },
      "source": [
        "plt.figure(figsize=(14,12))\r\n",
        "plt.plot(ytest, color = 'red', label = 'Real  Stock Price')\r\n",
        "plt.plot(predictions, color = 'blue', label = 'Predicted Stock Price')\r\n",
        "plt.title('Stock Price Prediction')\r\n",
        "plt.xlabel('Time')\r\n",
        "plt.ylabel(' Stock Price')\r\n",
        "plt.legend()\r\n",
        "plt.show()"
      ],
      "execution_count": 110,
      "outputs": [
        {
          "output_type": "display_data",
          "data": {
            "image/png": "[encoded data removed]",
            "text/plain": [
              "<Figure size 1008x864 with 1 Axes>"
            ]
          },
          "metadata": {
            "tags": []
          }
        }
      ]
    },
    {
      "cell_type": "markdown",
      "metadata": {
        "id": "ct_yQhA_3Zsu"
      },
      "source": [
        "Thus a hybrid model of VADER sentiment analysis model and LSTM is used to predict stockprices of year 2019 one day at a time."
      ]
    }
  ]
}